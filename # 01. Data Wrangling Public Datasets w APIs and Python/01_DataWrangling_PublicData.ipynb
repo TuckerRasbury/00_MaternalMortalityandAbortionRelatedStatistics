{
 "cells": [
  {
   "cell_type": "markdown",
   "metadata": {},
   "source": [
    "# Data Wrangling Public Datasets w/ APIs and Python\n",
    "- _by: Isaac D. Tucker-Rasbury_\n",
    "- _Start: 6/27/2022_"
   ]
  },
  {
   "cell_type": "markdown",
   "metadata": {},
   "source": [
    "##### Summary\n",
    "Ingesting data from reputable sources via an API to create a pipeline that is equal parts flexible, scalable, and auditable. \n",
    "\n",
    "##### Objective\n",
    "* 1. Subject Matter - Maternal Morbidity Factors and layering in another variable for abortion care restrictions and bans.\n",
    "* 2. Skill set - data wrangling to visualization\n",
    "* 3. Leverage Pythong to aggregate data fromb Public APIs"
   ]
  },
  {
   "cell_type": "markdown",
   "metadata": {},
   "source": [
    "## --- Beginning ---"
   ]
  },
  {
   "cell_type": "markdown",
   "metadata": {},
   "source": [
    "### Initial Imports for creating Data Analytics Environment"
   ]
  },
  {
   "cell_type": "code",
   "execution_count": 38,
   "metadata": {},
   "outputs": [
    {
     "data": {
      "text/plain": [
       "['import numpy as np',\n",
       " 'from sklearn.model_selection import GridSearchCV',\n",
       " 'from sklearn.manifold import TSNE',\n",
       " 'import os',\n",
       " 'from sklearn.linear_model import ElasticNetCV',\n",
       " 'import re',\n",
       " 'import skimage',\n",
       " 'from openpyxl import load_workbook',\n",
       " 'import seaborn as sns',\n",
       " 'from scipy import signal as sg',\n",
       " 'import tensorflow as tf',\n",
       " 'from sklearn.preprocessing import MinMaxScaler',\n",
       " 'import matplotlib.pyplot as plt',\n",
       " 'from sklearn.ensemble import GradientBoostingClassifier',\n",
       " 'from sklearn.linear_model import LogisticRegression',\n",
       " 'import fastai',\n",
       " 'import textblob',\n",
       " 'from sklearn.preprocessing import RobustScaler',\n",
       " 'from dask import dataframe as dd',\n",
       " 'import pydot',\n",
       " 'import statistics',\n",
       " 'from PIL import Image',\n",
       " 'from sklearn.impute import SimpleImputer',\n",
       " 'import awswrangler as wr',\n",
       " 'import fbprophet',\n",
       " 'from sklearn.preprocessing import PolynomialFeatures',\n",
       " 'from sklearn.feature_extraction.text import CountVectorizer',\n",
       " 'from sklearn.model_selection import RandomizedSearchCV',\n",
       " 'from sklearn.feature_extraction.text import TfidfVectorizer',\n",
       " 'from xlrd import open_workbook',\n",
       " 'import imutils',\n",
       " 'import tqdm',\n",
       " 'from sklearn.linear_model import LinearRegression',\n",
       " 'from sklearn.preprocessing import OneHotEncoder',\n",
       " 'import pandas as pd',\n",
       " 'import datetime as dt',\n",
       " 'from sklearn.model_selection import StratifiedKFold',\n",
       " 'from sklearn.linear_model import Ridge',\n",
       " 'from sklearn.model_selection import cross_val_score',\n",
       " 'import sklearn',\n",
       " 'from sklearn.cluster import KMeans',\n",
       " 'from sklearn import svm',\n",
       " 'from scipy import stats',\n",
       " 'import lightgbm as lgb',\n",
       " 'from sklearn.model_selection import KFold',\n",
       " 'import spacy',\n",
       " 'from sklearn.ensemble import RandomForestClassifier',\n",
       " 'from sklearn.model_selection import train_test_split',\n",
       " 'from sklearn.ensemble import GradientBoostingRegressor',\n",
       " 'import plotly as py',\n",
       " 'import pickle',\n",
       " 'from sklearn.decomposition import PCA',\n",
       " 'import sys',\n",
       " 'import nltk',\n",
       " 'from pathlib import Path',\n",
       " 'import bokeh',\n",
       " 'from sklearn.preprocessing import StandardScaler',\n",
       " 'from sklearn.linear_model import ElasticNet',\n",
       " 'import xgboost as xgb',\n",
       " 'import gensim',\n",
       " 'import plotly.express as px',\n",
       " 'import torch',\n",
       " 'from sklearn.ensemble import RandomForestRegressor',\n",
       " 'from pyspark import SparkContext',\n",
       " 'from fbprophet import Prophet',\n",
       " 'from statsmodels.tsa.arima_model import ARIMA',\n",
       " 'from sklearn.preprocessing import LabelEncoder',\n",
       " 'import plotly.graph_objs as go',\n",
       " 'import glob',\n",
       " 'from sklearn.linear_model import LassoCV',\n",
       " 'import dash',\n",
       " 'from sklearn import metrics',\n",
       " 'import keras',\n",
       " 'import statsmodels.api as sm',\n",
       " 'import altair as alt',\n",
       " 'import cv2',\n",
       " 'import matplotlib as mpl',\n",
       " 'from sklearn.linear_model import RidgeCV',\n",
       " 'from sklearn.linear_model import Lasso']"
      ]
     },
     "execution_count": 38,
     "metadata": {},
     "output_type": "execute_result"
    }
   ],
   "source": [
    "# Easiest Import Option\n",
    "\n",
    "## Libraries for Data Science - Import All Statement\n",
    "import pyforest\n",
    "\n",
    "lazy_imports()\n"
   ]
  },
  {
   "cell_type": "code",
   "execution_count": 39,
   "metadata": {},
   "outputs": [
    {
     "name": "stdout",
     "output_type": "stream",
     "text": [
      "Requirement already satisfied: pip in /Library/Frameworks/Python.framework/Versions/3.9/lib/python3.9/site-packages (22.1.2)\n",
      "Note: you may need to restart the kernel to use updated packages.\n",
      "Requirement already satisfied: pyforest in /Library/Frameworks/Python.framework/Versions/3.9/lib/python3.9/site-packages (1.1.0)\n",
      "Note: you may need to restart the kernel to use updated packages.\n",
      "Requirement already satisfied: folium in /Library/Frameworks/Python.framework/Versions/3.9/lib/python3.9/site-packages (0.12.1.post1)\n",
      "Requirement already satisfied: jinja2>=2.9 in /Library/Frameworks/Python.framework/Versions/3.9/lib/python3.9/site-packages (from folium) (2.11.3)\n",
      "Requirement already satisfied: requests in /Library/Frameworks/Python.framework/Versions/3.9/lib/python3.9/site-packages (from folium) (2.28.0)\n",
      "Requirement already satisfied: numpy in /Library/Frameworks/Python.framework/Versions/3.9/lib/python3.9/site-packages (from folium) (1.23.0)\n",
      "Requirement already satisfied: branca>=0.3.0 in /Library/Frameworks/Python.framework/Versions/3.9/lib/python3.9/site-packages (from folium) (0.5.0)\n",
      "Requirement already satisfied: MarkupSafe>=0.23 in /Library/Frameworks/Python.framework/Versions/3.9/lib/python3.9/site-packages (from jinja2>=2.9->folium) (2.1.1)\n",
      "Requirement already satisfied: certifi>=2017.4.17 in /Library/Frameworks/Python.framework/Versions/3.9/lib/python3.9/site-packages (from requests->folium) (2022.6.15)\n",
      "Requirement already satisfied: idna<4,>=2.5 in /Library/Frameworks/Python.framework/Versions/3.9/lib/python3.9/site-packages (from requests->folium) (3.3)\n",
      "Requirement already satisfied: charset-normalizer~=2.0.0 in /Library/Frameworks/Python.framework/Versions/3.9/lib/python3.9/site-packages (from requests->folium) (2.0.12)\n",
      "Requirement already satisfied: urllib3<1.27,>=1.21.1 in /Library/Frameworks/Python.framework/Versions/3.9/lib/python3.9/site-packages (from requests->folium) (1.26.9)\n",
      "Note: you may need to restart the kernel to use updated packages.\n",
      "Requirement already satisfied: pandas in /Library/Frameworks/Python.framework/Versions/3.9/lib/python3.9/site-packages (1.4.3)\n",
      "Requirement already satisfied: numpy>=1.18.5 in /Library/Frameworks/Python.framework/Versions/3.9/lib/python3.9/site-packages (from pandas) (1.23.0)\n",
      "Requirement already satisfied: pytz>=2020.1 in /Library/Frameworks/Python.framework/Versions/3.9/lib/python3.9/site-packages (from pandas) (2022.1)\n",
      "Requirement already satisfied: python-dateutil>=2.8.1 in /Library/Frameworks/Python.framework/Versions/3.9/lib/python3.9/site-packages (from pandas) (2.8.2)\n",
      "Requirement already satisfied: six>=1.5 in /Users/itr/Library/Python/3.9/lib/python/site-packages (from python-dateutil>=2.8.1->pandas) (1.15.0)\n",
      "Note: you may need to restart the kernel to use updated packages.\n",
      "Requirement already satisfied: matplotlib in /Library/Frameworks/Python.framework/Versions/3.9/lib/python3.9/site-packages (3.5.2)\n",
      "Requirement already satisfied: pyparsing>=2.2.1 in /Library/Frameworks/Python.framework/Versions/3.9/lib/python3.9/site-packages (from matplotlib) (3.0.9)\n",
      "Requirement already satisfied: kiwisolver>=1.0.1 in /Library/Frameworks/Python.framework/Versions/3.9/lib/python3.9/site-packages (from matplotlib) (1.4.3)\n",
      "Requirement already satisfied: packaging>=20.0 in /Library/Frameworks/Python.framework/Versions/3.9/lib/python3.9/site-packages (from matplotlib) (21.3)\n",
      "Requirement already satisfied: numpy>=1.17 in /Library/Frameworks/Python.framework/Versions/3.9/lib/python3.9/site-packages (from matplotlib) (1.23.0)\n",
      "Requirement already satisfied: pillow>=6.2.0 in /Library/Frameworks/Python.framework/Versions/3.9/lib/python3.9/site-packages (from matplotlib) (9.1.1)\n",
      "Requirement already satisfied: cycler>=0.10 in /Library/Frameworks/Python.framework/Versions/3.9/lib/python3.9/site-packages (from matplotlib) (0.11.0)\n",
      "Requirement already satisfied: python-dateutil>=2.7 in /Library/Frameworks/Python.framework/Versions/3.9/lib/python3.9/site-packages (from matplotlib) (2.8.2)\n",
      "Requirement already satisfied: fonttools>=4.22.0 in /Library/Frameworks/Python.framework/Versions/3.9/lib/python3.9/site-packages (from matplotlib) (4.33.3)\n",
      "Requirement already satisfied: six>=1.5 in /Users/itr/Library/Python/3.9/lib/python/site-packages (from python-dateutil>=2.7->matplotlib) (1.15.0)\n",
      "Note: you may need to restart the kernel to use updated packages.\n",
      "Requirement already satisfied: bonobo in /Library/Frameworks/Python.framework/Versions/3.9/lib/python3.9/site-packages (0.6.4)\n",
      "Requirement already satisfied: fs~=2.0 in /Library/Frameworks/Python.framework/Versions/3.9/lib/python3.9/site-packages (from bonobo) (2.4.16)\n",
      "Requirement already satisfied: whistle~=1.0 in /Library/Frameworks/Python.framework/Versions/3.9/lib/python3.9/site-packages (from bonobo) (1.0.1)\n",
      "Requirement already satisfied: psutil~=5.4 in /Library/Frameworks/Python.framework/Versions/3.9/lib/python3.9/site-packages (from bonobo) (5.9.1)\n",
      "Requirement already satisfied: python-slugify~=1.2.0 in /Library/Frameworks/Python.framework/Versions/3.9/lib/python3.9/site-packages (from bonobo) (1.2.6)\n",
      "Requirement already satisfied: requests~=2.0 in /Library/Frameworks/Python.framework/Versions/3.9/lib/python3.9/site-packages (from bonobo) (2.28.0)\n",
      "Collecting packaging~=19.0\n",
      "  Using cached packaging-19.2-py2.py3-none-any.whl (30 kB)\n",
      "Requirement already satisfied: jinja2~=2.9 in /Library/Frameworks/Python.framework/Versions/3.9/lib/python3.9/site-packages (from bonobo) (2.11.3)\n",
      "Requirement already satisfied: graphviz<0.9,>=0.8 in /Library/Frameworks/Python.framework/Versions/3.9/lib/python3.9/site-packages (from bonobo) (0.8.4)\n",
      "Requirement already satisfied: mondrian~=0.7 in /Library/Frameworks/Python.framework/Versions/3.9/lib/python3.9/site-packages (from bonobo) (0.8.1)\n",
      "Requirement already satisfied: stevedore~=1.27 in /Library/Frameworks/Python.framework/Versions/3.9/lib/python3.9/site-packages (from bonobo) (1.32.0)\n",
      "Requirement already satisfied: appdirs~=1.4.3 in /Library/Frameworks/Python.framework/Versions/3.9/lib/python3.9/site-packages (from fs~=2.0->bonobo) (1.4.4)\n",
      "Requirement already satisfied: six~=1.10 in /Users/itr/Library/Python/3.9/lib/python/site-packages (from fs~=2.0->bonobo) (1.15.0)\n",
      "Requirement already satisfied: setuptools in /Library/Frameworks/Python.framework/Versions/3.9/lib/python3.9/site-packages (from fs~=2.0->bonobo) (49.2.1)\n",
      "Requirement already satisfied: MarkupSafe>=0.23 in /Library/Frameworks/Python.framework/Versions/3.9/lib/python3.9/site-packages (from jinja2~=2.9->bonobo) (2.1.1)\n",
      "Requirement already satisfied: colorama<0.5,>=0.3.7 in /Library/Frameworks/Python.framework/Versions/3.9/lib/python3.9/site-packages (from mondrian~=0.7->bonobo) (0.4.5)\n",
      "Requirement already satisfied: pyparsing>=2.0.2 in /Library/Frameworks/Python.framework/Versions/3.9/lib/python3.9/site-packages (from packaging~=19.0->bonobo) (3.0.9)\n",
      "Requirement already satisfied: Unidecode>=0.04.16 in /Library/Frameworks/Python.framework/Versions/3.9/lib/python3.9/site-packages (from python-slugify~=1.2.0->bonobo) (1.3.4)\n",
      "Requirement already satisfied: certifi>=2017.4.17 in /Library/Frameworks/Python.framework/Versions/3.9/lib/python3.9/site-packages (from requests~=2.0->bonobo) (2022.6.15)\n",
      "Requirement already satisfied: urllib3<1.27,>=1.21.1 in /Library/Frameworks/Python.framework/Versions/3.9/lib/python3.9/site-packages (from requests~=2.0->bonobo) (1.26.9)\n",
      "Requirement already satisfied: idna<4,>=2.5 in /Library/Frameworks/Python.framework/Versions/3.9/lib/python3.9/site-packages (from requests~=2.0->bonobo) (3.3)\n",
      "Requirement already satisfied: charset-normalizer~=2.0.0 in /Library/Frameworks/Python.framework/Versions/3.9/lib/python3.9/site-packages (from requests~=2.0->bonobo) (2.0.12)\n",
      "Requirement already satisfied: pbr!=2.1.0,>=2.0.0 in /Library/Frameworks/Python.framework/Versions/3.9/lib/python3.9/site-packages (from stevedore~=1.27->bonobo) (5.9.0)\n",
      "Installing collected packages: packaging\n",
      "  Attempting uninstall: packaging\n",
      "    Found existing installation: packaging 21.3\n",
      "    Uninstalling packaging-21.3:\n",
      "      Successfully uninstalled packaging-21.3\n",
      "\u001b[31mERROR: pip's dependency resolver does not currently take into account all the packages that are installed. This behaviour is the source of the following dependency conflicts.\n",
      "matplotlib 3.5.2 requires packaging>=20.0, but you have packaging 19.2 which is incompatible.\u001b[0m\u001b[31m\n",
      "\u001b[0mSuccessfully installed packaging-19.2\n",
      "Note: you may need to restart the kernel to use updated packages.\n",
      "Requirement already satisfied: scrapy in /Library/Frameworks/Python.framework/Versions/3.9/lib/python3.9/site-packages (2.6.1)\n",
      "Requirement already satisfied: pyOpenSSL>=16.2.0 in /Library/Frameworks/Python.framework/Versions/3.9/lib/python3.9/site-packages (from scrapy) (22.0.0)\n",
      "Requirement already satisfied: cryptography>=2.0 in /Library/Frameworks/Python.framework/Versions/3.9/lib/python3.9/site-packages (from scrapy) (37.0.2)\n",
      "Requirement already satisfied: Twisted>=17.9.0 in /Library/Frameworks/Python.framework/Versions/3.9/lib/python3.9/site-packages (from scrapy) (22.4.0)\n",
      "Requirement already satisfied: queuelib>=1.4.2 in /Library/Frameworks/Python.framework/Versions/3.9/lib/python3.9/site-packages (from scrapy) (1.6.2)\n",
      "Requirement already satisfied: tldextract in /Library/Frameworks/Python.framework/Versions/3.9/lib/python3.9/site-packages (from scrapy) (3.3.0)\n",
      "Requirement already satisfied: parsel>=1.5.0 in /Library/Frameworks/Python.framework/Versions/3.9/lib/python3.9/site-packages (from scrapy) (1.6.0)\n",
      "Requirement already satisfied: w3lib>=1.17.0 in /Library/Frameworks/Python.framework/Versions/3.9/lib/python3.9/site-packages (from scrapy) (1.22.0)\n",
      "Requirement already satisfied: setuptools in /Library/Frameworks/Python.framework/Versions/3.9/lib/python3.9/site-packages (from scrapy) (49.2.1)\n",
      "Requirement already satisfied: cssselect>=0.9.1 in /Library/Frameworks/Python.framework/Versions/3.9/lib/python3.9/site-packages (from scrapy) (1.1.0)\n",
      "Requirement already satisfied: itemadapter>=0.1.0 in /Library/Frameworks/Python.framework/Versions/3.9/lib/python3.9/site-packages (from scrapy) (0.6.0)\n",
      "Requirement already satisfied: itemloaders>=1.0.1 in /Library/Frameworks/Python.framework/Versions/3.9/lib/python3.9/site-packages (from scrapy) (1.0.4)\n",
      "Requirement already satisfied: protego>=0.1.15 in /Library/Frameworks/Python.framework/Versions/3.9/lib/python3.9/site-packages (from scrapy) (0.2.1)\n",
      "Requirement already satisfied: lxml>=3.5.0 in /Library/Frameworks/Python.framework/Versions/3.9/lib/python3.9/site-packages (from scrapy) (4.9.0)\n",
      "Requirement already satisfied: PyDispatcher>=2.0.5 in /Library/Frameworks/Python.framework/Versions/3.9/lib/python3.9/site-packages (from scrapy) (2.0.5)\n",
      "Requirement already satisfied: service-identity>=16.0.0 in /Library/Frameworks/Python.framework/Versions/3.9/lib/python3.9/site-packages (from scrapy) (21.1.0)\n",
      "Requirement already satisfied: zope.interface>=4.1.3 in /Library/Frameworks/Python.framework/Versions/3.9/lib/python3.9/site-packages (from scrapy) (5.4.0)\n",
      "Requirement already satisfied: cffi>=1.12 in /Library/Frameworks/Python.framework/Versions/3.9/lib/python3.9/site-packages (from cryptography>=2.0->scrapy) (1.15.0)\n",
      "Requirement already satisfied: jmespath>=0.9.5 in /Library/Frameworks/Python.framework/Versions/3.9/lib/python3.9/site-packages (from itemloaders>=1.0.1->scrapy) (1.0.1)\n",
      "Requirement already satisfied: six>=1.6.0 in /Users/itr/Library/Python/3.9/lib/python/site-packages (from parsel>=1.5.0->scrapy) (1.15.0)\n",
      "Requirement already satisfied: attrs>=19.1.0 in /Library/Frameworks/Python.framework/Versions/3.9/lib/python3.9/site-packages (from service-identity>=16.0.0->scrapy) (21.4.0)\n",
      "Requirement already satisfied: pyasn1 in /Library/Frameworks/Python.framework/Versions/3.9/lib/python3.9/site-packages (from service-identity>=16.0.0->scrapy) (0.4.8)\n",
      "Requirement already satisfied: pyasn1-modules in /Library/Frameworks/Python.framework/Versions/3.9/lib/python3.9/site-packages (from service-identity>=16.0.0->scrapy) (0.2.8)\n",
      "Requirement already satisfied: typing-extensions>=3.6.5 in /Library/Frameworks/Python.framework/Versions/3.9/lib/python3.9/site-packages (from Twisted>=17.9.0->scrapy) (4.2.0)\n",
      "Requirement already satisfied: constantly>=15.1 in /Library/Frameworks/Python.framework/Versions/3.9/lib/python3.9/site-packages (from Twisted>=17.9.0->scrapy) (15.1.0)\n",
      "Requirement already satisfied: incremental>=21.3.0 in /Library/Frameworks/Python.framework/Versions/3.9/lib/python3.9/site-packages (from Twisted>=17.9.0->scrapy) (21.3.0)\n",
      "Requirement already satisfied: Automat>=0.8.0 in /Library/Frameworks/Python.framework/Versions/3.9/lib/python3.9/site-packages (from Twisted>=17.9.0->scrapy) (20.2.0)\n",
      "Requirement already satisfied: hyperlink>=17.1.1 in /Library/Frameworks/Python.framework/Versions/3.9/lib/python3.9/site-packages (from Twisted>=17.9.0->scrapy) (21.0.0)\n",
      "Requirement already satisfied: requests-file>=1.4 in /Library/Frameworks/Python.framework/Versions/3.9/lib/python3.9/site-packages (from tldextract->scrapy) (1.5.1)\n",
      "Requirement already satisfied: idna in /Library/Frameworks/Python.framework/Versions/3.9/lib/python3.9/site-packages (from tldextract->scrapy) (3.3)\n",
      "Requirement already satisfied: requests>=2.1.0 in /Library/Frameworks/Python.framework/Versions/3.9/lib/python3.9/site-packages (from tldextract->scrapy) (2.28.0)\n",
      "Requirement already satisfied: filelock>=3.0.8 in /Library/Frameworks/Python.framework/Versions/3.9/lib/python3.9/site-packages (from tldextract->scrapy) (3.7.1)\n",
      "Requirement already satisfied: pycparser in /Library/Frameworks/Python.framework/Versions/3.9/lib/python3.9/site-packages (from cffi>=1.12->cryptography>=2.0->scrapy) (2.21)\n",
      "Requirement already satisfied: certifi>=2017.4.17 in /Library/Frameworks/Python.framework/Versions/3.9/lib/python3.9/site-packages (from requests>=2.1.0->tldextract->scrapy) (2022.6.15)\n",
      "Requirement already satisfied: charset-normalizer~=2.0.0 in /Library/Frameworks/Python.framework/Versions/3.9/lib/python3.9/site-packages (from requests>=2.1.0->tldextract->scrapy) (2.0.12)\n",
      "Requirement already satisfied: urllib3<1.27,>=1.21.1 in /Library/Frameworks/Python.framework/Versions/3.9/lib/python3.9/site-packages (from requests>=2.1.0->tldextract->scrapy) (1.26.9)\n",
      "Note: you may need to restart the kernel to use updated packages.\n",
      "Requirement already satisfied: beautifulsoup4 in /Library/Frameworks/Python.framework/Versions/3.9/lib/python3.9/site-packages (4.11.1)\n",
      "Requirement already satisfied: soupsieve>1.2 in /Library/Frameworks/Python.framework/Versions/3.9/lib/python3.9/site-packages (from beautifulsoup4) (2.3.2.post1)\n",
      "Note: you may need to restart the kernel to use updated packages.\n",
      "Requirement already satisfied: seaborn in /Library/Frameworks/Python.framework/Versions/3.9/lib/python3.9/site-packages (0.11.2)\n",
      "Requirement already satisfied: matplotlib>=2.2 in /Library/Frameworks/Python.framework/Versions/3.9/lib/python3.9/site-packages (from seaborn) (3.5.2)\n",
      "Requirement already satisfied: scipy>=1.0 in /Library/Frameworks/Python.framework/Versions/3.9/lib/python3.9/site-packages (from seaborn) (1.8.1)\n",
      "Requirement already satisfied: pandas>=0.23 in /Library/Frameworks/Python.framework/Versions/3.9/lib/python3.9/site-packages (from seaborn) (1.4.3)\n",
      "Requirement already satisfied: numpy>=1.15 in /Library/Frameworks/Python.framework/Versions/3.9/lib/python3.9/site-packages (from seaborn) (1.23.0)\n",
      "Requirement already satisfied: python-dateutil>=2.7 in /Library/Frameworks/Python.framework/Versions/3.9/lib/python3.9/site-packages (from matplotlib>=2.2->seaborn) (2.8.2)\n",
      "Requirement already satisfied: cycler>=0.10 in /Library/Frameworks/Python.framework/Versions/3.9/lib/python3.9/site-packages (from matplotlib>=2.2->seaborn) (0.11.0)\n",
      "Requirement already satisfied: fonttools>=4.22.0 in /Library/Frameworks/Python.framework/Versions/3.9/lib/python3.9/site-packages (from matplotlib>=2.2->seaborn) (4.33.3)\n",
      "Collecting packaging>=20.0\n",
      "  Using cached packaging-21.3-py3-none-any.whl (40 kB)\n",
      "Requirement already satisfied: pyparsing>=2.2.1 in /Library/Frameworks/Python.framework/Versions/3.9/lib/python3.9/site-packages (from matplotlib>=2.2->seaborn) (3.0.9)\n",
      "Requirement already satisfied: pillow>=6.2.0 in /Library/Frameworks/Python.framework/Versions/3.9/lib/python3.9/site-packages (from matplotlib>=2.2->seaborn) (9.1.1)\n",
      "Requirement already satisfied: kiwisolver>=1.0.1 in /Library/Frameworks/Python.framework/Versions/3.9/lib/python3.9/site-packages (from matplotlib>=2.2->seaborn) (1.4.3)\n",
      "Requirement already satisfied: pytz>=2020.1 in /Library/Frameworks/Python.framework/Versions/3.9/lib/python3.9/site-packages (from pandas>=0.23->seaborn) (2022.1)\n",
      "Requirement already satisfied: six>=1.5 in /Users/itr/Library/Python/3.9/lib/python/site-packages (from python-dateutil>=2.7->matplotlib>=2.2->seaborn) (1.15.0)\n",
      "Installing collected packages: packaging\n",
      "  Attempting uninstall: packaging\n",
      "    Found existing installation: packaging 19.2\n",
      "    Uninstalling packaging-19.2:\n",
      "      Successfully uninstalled packaging-19.2\n",
      "\u001b[31mERROR: pip's dependency resolver does not currently take into account all the packages that are installed. This behaviour is the source of the following dependency conflicts.\n",
      "bonobo 0.6.4 requires packaging~=19.0, but you have packaging 21.3 which is incompatible.\u001b[0m\u001b[31m\n",
      "\u001b[0mSuccessfully installed packaging-21.3\n",
      "Note: you may need to restart the kernel to use updated packages.\n"
     ]
    }
   ],
   "source": [
    "# Installations and Imports for creating Data Analytics Environment\n",
    "\n",
    "%pip install --upgrade pip\n",
    "%pip install --upgrade pyforest\n",
    " #Comment | %python -m pyforest install_extensions\n",
    "%pip install --upgrade folium\n",
    "%pip install pandas\n",
    "%pip install matplotlib\n",
    "%pip install bonobo\n",
    "%pip install scrapy # Project Description - https://pypi.org/project/Scrapy/\n",
    "%pip install beautifulsoup4 # Project Description - https://pypi.org/project/beautifulsoup4/\n",
    "%pip install seaborn\n"
   ]
  },
  {
   "cell_type": "code",
   "execution_count": 40,
   "metadata": {},
   "outputs": [],
   "source": [
    "#Libraries Imported Explicitly"
   ]
  },
  {
   "cell_type": "code",
   "execution_count": 41,
   "metadata": {},
   "outputs": [],
   "source": [
    "## Data Mining - explicit mention\n",
    "import scrapy\n",
    "from bs4 import BeautifulSoup"
   ]
  },
  {
   "cell_type": "code",
   "execution_count": 42,
   "metadata": {},
   "outputs": [],
   "source": [
    "## Python to Web Queries Made easier\n",
    "import requests\n",
    "import json\n",
    "import urllib3\n",
    "from urllib3 import request"
   ]
  },
  {
   "cell_type": "code",
   "execution_count": 43,
   "metadata": {},
   "outputs": [],
   "source": [
    "## to handle certificate verification\n",
    "import certifi"
   ]
  },
  {
   "cell_type": "code",
   "execution_count": 44,
   "metadata": {},
   "outputs": [],
   "source": [
    "## Data Processing and Modeling - explicit mention\n",
    "import numpy as np\n",
    "import pandas as pd\n",
    "import matplotlib.pyplot as plt"
   ]
  },
  {
   "cell_type": "code",
   "execution_count": 45,
   "metadata": {},
   "outputs": [
    {
     "ename": "ModuleNotFoundError",
     "evalue": "No module named 'geoplotlib'",
     "output_type": "error",
     "traceback": [
      "\u001b[0;31m---------------------------------------------------------------------------\u001b[0m",
      "\u001b[0;31mModuleNotFoundError\u001b[0m                       Traceback (most recent call last)",
      "\u001b[0;32m/var/folders/n9/m2bk4f3j213_b53l1b68fd5c0000gn/T/ipykernel_7110/3205056702.py\u001b[0m in \u001b[0;36m<module>\u001b[0;34m\u001b[0m\n\u001b[1;32m      2\u001b[0m \u001b[0;32mimport\u001b[0m \u001b[0mseaborn\u001b[0m \u001b[0;32mas\u001b[0m \u001b[0msns\u001b[0m\u001b[0;34m\u001b[0m\u001b[0;34m\u001b[0m\u001b[0m\n\u001b[1;32m      3\u001b[0m \u001b[0;34m\u001b[0m\u001b[0m\n\u001b[0;32m----> 4\u001b[0;31m \u001b[0;32mimport\u001b[0m \u001b[0mgeoplotlib\u001b[0m\u001b[0;34m\u001b[0m\u001b[0;34m\u001b[0m\u001b[0m\n\u001b[0m\u001b[1;32m      5\u001b[0m \u001b[0;32mfrom\u001b[0m \u001b[0mgeoplotlib\u001b[0m\u001b[0;34m.\u001b[0m\u001b[0mutils\u001b[0m \u001b[0;32mimport\u001b[0m \u001b[0mread_csv\u001b[0m\u001b[0;34m,\u001b[0m \u001b[0mBoundingBox\u001b[0m\u001b[0;34m\u001b[0m\u001b[0;34m\u001b[0m\u001b[0m\n\u001b[1;32m      6\u001b[0m \u001b[0;34m\u001b[0m\u001b[0m\n",
      "\u001b[0;31mModuleNotFoundError\u001b[0m: No module named 'geoplotlib'"
     ]
    }
   ],
   "source": [
    "## Data Viz and Plotting\n",
    "import seaborn as sns\n",
    "\n",
    "import geoplotlib\n",
    "from geoplotlib.utils import read_csv, BoundingBox\n",
    "\n",
    "import plotly.express as px\n",
    "\n",
    "## Dataviz Libraries Appendix\n",
    "# Link: https://towardsdatascience.com/best-libraries-for-geospatial-data-visualisation-in-python-d23834173b35"
   ]
  },
  {
   "cell_type": "code",
   "execution_count": null,
   "metadata": {},
   "outputs": [],
   "source": [
    "## Pipeline - ETL Library\n",
    "import bonobo #Footnote: https://www.bonobo-project.org/\n"
   ]
  },
  {
   "cell_type": "code",
   "execution_count": null,
   "metadata": {},
   "outputs": [],
   "source": [
    "# Handling Certificate Validation (see pipinstall certifi)\n",
    "http = urllib3.PoolManager(\n",
    "      cert_reqs=|CERT_REQUIRED|\n",
    "       ca_certs=certifi.where())"
   ]
  },
  {
   "cell_type": "code",
   "execution_count": null,
   "metadata": {},
   "outputs": [],
   "source": [
    "# to handle certificate verification\n",
    "import certifi"
   ]
  },
  {
   "cell_type": "code",
   "execution_count": null,
   "metadata": {},
   "outputs": [],
   "source": [
    "lazy_imports()"
   ]
  },
  {
   "cell_type": "code",
   "execution_count": null,
   "metadata": {},
   "outputs": [],
   "source": [
    "# Dataset Imports and Accompanying Details\n",
    "\n"
   ]
  },
  {
   "cell_type": "markdown",
   "metadata": {},
   "source": [
    "# Rubber Stamp Point"
   ]
  },
  {
   "cell_type": "markdown",
   "metadata": {},
   "source": [
    "Planning for the Problem\n",
    "\n",
    "* Codify the problem\n",
    "* Brainstorm game plan\n",
    "* Resources\n",
    "* Deadlines"
   ]
  },
  {
   "cell_type": "code",
   "execution_count": null,
   "metadata": {},
   "outputs": [],
   "source": [
    "# Import/Connect to your data at this Point"
   ]
  },
  {
   "cell_type": "markdown",
   "metadata": {},
   "source": [
    "# Appendix"
   ]
  },
  {
   "cell_type": "markdown",
   "metadata": {},
   "source": [
    "##### Links\n",
    "* Jupyter Notebook - Markdown Cells Explained\n",
    "https://www.tutorialspoint.com/jupyter/jupyter_notebook_markdown_cells.htm#:~:text=Table%20In%20a%20markdown%20cell%2C%20a%20table%20cansymbols%20need%20not%20be%20exactly%20aligned%20while%20typing._\n",
    "\n",
    "* Most Popular Python Packages in 2021 | LearnPython.com\n",
    "https://learnpython.com/blog/most-popular-python-packages/\n",
    "\n",
    "* Python ETL Tools: Best 8 Options | Towards Data Science | Sean Knight\n",
    "https://towardsdatascience.com/python-etl-tools-best-8-options-5ef731e70b49\n"
   ]
  },
  {
   "cell_type": "markdown",
   "metadata": {},
   "source": [
    "##### Libraries Imported with Pyforest Explained\n",
    "\n",
    "| Library | Summary | Elaboration |\n",
    "| --- | --- | ---- |\n",
    "| Pyforest | Quick Import All | All of the data science industry standard libraries can be added to the file at once. But please take note to confirm a handful of libraries are on the list.\n",
    "| Pandas |\n",
    "| from sklearn.linear_model import RidgeCV|\n",
    " |from sklearn.feature_extraction.text import CountVectorizer|\n",
    " |import dash|\n",
    " |from sklearn.model_selection import StratifiedKFold|\n",
    " |import seaborn as sns|\n",
    " |from sklearn import metrics|\n",
    " |from pathlib import Path|\n",
    " |from sklearn.linear_model import LogisticRegression|\n",
    " |import os|\n",
    " |import tensorflow as tf|\n",
    " |import sklearn|\n",
    " |import plotly as py|\n",
    " |from pyspark import SparkContext|\n",
    " |from sklearn.linear_model import LinearRegression|\n",
    " |from sklearn.preprocessing import MinMaxScaler|\n",
    " |from sklearn.preprocessing import RobustScaler|\n",
    " |from sklearn.decomposition import PCA|\n",
    " |from PIL import Image|\n",
    " |import tqdm|\n",
    " |import spacy|\n",
    " |import lightgbm as lgb|\n",
    " |from sklearn.preprocessing import LabelEncoder|\n",
    " |from sklearn.linear_model import LassoCV|\n",
    " |from sklearn.manifold import TSNE|\n",
    " |import pydot|\n",
    " |import keras|\n",
    " |from sklearn.ensemble import RandomForestRegressor|\n",
    " |import fbprophet|\n",
    " |import xgboost as xgb|\n",
    " |from sklearn import svm|\n",
    " |from sklearn.feature_extraction.text import TfidfVectorizer|\n",
    " |from statsmodels.tsa.arima_model import ARIMA|\n",
    " |from sklearn.linear_model import ElasticNet|\n",
    " |from scipy import stats|\n",
    " |from sklearn.preprocessing import OneHotEncoder|\n",
    " |import pandas as pd|\n",
    " |from sklearn.model_selection import train_test_split|\n",
    " |from sklearn.ensemble import GradientBoostingRegressor|\n",
    " |import glob|\n",
    " |import plotly.graph_objs as go|\n",
    " |import skimage|\n",
    " |import torch|\n",
    " |from sklearn.model_selection import GridSearchCV|\n",
    " |import datetime as dt|\n",
    " |from xlrd import open_workbook|\n",
    " |from sklearn.linear_model import ElasticNetCV|\n",
    " |from sklearn.preprocessing import StandardScaler|\n",
    " |from sklearn.model_selection import cross_val_score|\n",
    " |import statsmodels.api as sm|\n",
    " |from scipy import signal as sg|\n",
    " |import fastai|\n",
    " |from dask import dataframe as dd|\n",
    " |from sklearn.ensemble import GradientBoostingClassifier|\n",
    " |from sklearn.preprocessing import PolynomialFeatures|\n",
    " |import awswrangler as wr|\n",
    " |import altair as alt|\n",
    " |from openpyxl import load_workbook|\n",
    " |import sys|\n",
    " |import pickle|\n",
    " |from sklearn.model_selection import RandomizedSearchCV|\n",
    " |from sklearn.ensemble import RandomForestClassifier|\n",
    " |import bokeh|\n",
    " |import imutils|\n",
    " |import matplotlib as mpl|\n",
    " |import cv2|\n",
    " |from sklearn.linear_model import Ridge|\n",
    " |import re|\n",
    " |import statistics|\n",
    " |import plotly.express as px|\n",
    " |from sklearn.cluster import KMeans|\n",
    " |import numpy as np|\n",
    " |from sklearn.linear_model import Lasso|\n",
    " |from fbprophet import Prophet|\n",
    " |import gensim|\n",
    " |import nltk|\n",
    " |import textblob|\n",
    " |from sklearn.model_selection import KFold|\n",
    " |import matplotlib.pyplot as plt|\n",
    " |from sklearn.impute import SimpleImputer|]\n"
   ]
  },
  {
   "cell_type": "code",
   "execution_count": null,
   "metadata": {},
   "outputs": [],
   "source": [
    "# --- Beginning ---"
   ]
  }
 ],
 "metadata": {
  "kernelspec": {
   "display_name": "Python 3.9.0 64-bit",
   "language": "python",
   "name": "python3"
  },
  "language_info": {
   "codemirror_mode": {
    "name": "ipython",
    "version": 3
   },
   "file_extension": ".py",
   "mimetype": "text/x-python",
   "name": "python",
   "nbconvert_exporter": "python",
   "pygments_lexer": "ipython3",
   "version": "3.9.0"
  },
  "orig_nbformat": 4,
  "vscode": {
   "interpreter": {
    "hash": "aee8b7b246df8f9039afb4144a1f6fd8d2ca17a180786b69acc140d282b71a49"
   }
  }
 },
 "nbformat": 4,
 "nbformat_minor": 2
}
