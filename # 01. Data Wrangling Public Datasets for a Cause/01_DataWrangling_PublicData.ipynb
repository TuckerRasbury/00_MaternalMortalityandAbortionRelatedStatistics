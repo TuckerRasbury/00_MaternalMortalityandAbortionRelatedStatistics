{
 "cells": [
  {
   "cell_type": "markdown",
   "metadata": {},
   "source": [
    "# Projecting Heightened Maternal Mortality\n",
    "- _by: Isaac D. Tucker-Rasbury_\n",
    "- _Start: 6/27/2022_"
   ]
  },
  {
   "cell_type": "markdown",
   "metadata": {},
   "source": [
    "##### Summary\n",
    "Ingesting data from reputable sources and conducting a regression analysis to forecast maternal mortality by state. \n",
    "\n",
    "##### Objective\n",
    "* 1. Subject Matter - Mapping Maternal Morbidity Factors On the US and then Layering in abortion care restrictions and bans.\n",
    "* 2. Skillset Used - data wrangling to visualization.\n",
    "* 3. Goal - Leverage Python to aggregate data fromb Public APIs."
   ]
  },
  {
   "cell_type": "markdown",
   "metadata": {},
   "source": [
    "## Environment Setup and Dataset Imports "
   ]
  },
  {
   "cell_type": "markdown",
   "metadata": {},
   "source": [
    "### Initial Imports for creating Data Analytics Environment"
   ]
  },
  {
   "cell_type": "code",
   "execution_count": 1,
   "metadata": {},
   "outputs": [
    {
     "data": {
      "text/plain": [
       "['from sklearn.linear_model import ElasticNet',\n",
       " 'import datetime as dt',\n",
       " 'from sklearn.model_selection import GridSearchCV',\n",
       " 'import skimage',\n",
       " 'from sklearn.preprocessing import PolynomialFeatures',\n",
       " 'import tensorflow as tf',\n",
       " 'from sklearn.model_selection import cross_val_score',\n",
       " 'import statsmodels.api as sm',\n",
       " 'from sklearn.impute import SimpleImputer',\n",
       " 'import torch',\n",
       " 'from sklearn.model_selection import train_test_split',\n",
       " 'import matplotlib.pyplot as plt',\n",
       " 'from sklearn.linear_model import RidgeCV',\n",
       " 'import seaborn as sns',\n",
       " 'from sklearn.ensemble import GradientBoostingRegressor',\n",
       " 'from statsmodels.tsa.arima_model import ARIMA',\n",
       " 'from sklearn import metrics',\n",
       " 'import imutils',\n",
       " 'from sklearn.model_selection import RandomizedSearchCV',\n",
       " 'import cv2',\n",
       " 'import altair as alt',\n",
       " 'from dask import dataframe as dd',\n",
       " 'import pydot',\n",
       " 'import xgboost as xgb',\n",
       " 'from sklearn.linear_model import Lasso',\n",
       " 'import nltk',\n",
       " 'from sklearn.model_selection import StratifiedKFold',\n",
       " 'from sklearn.preprocessing import LabelEncoder',\n",
       " 'import pandas as pd',\n",
       " 'from PIL import Image',\n",
       " 'import statistics',\n",
       " 'from sklearn.linear_model import Ridge',\n",
       " 'import awswrangler as wr',\n",
       " 'from sklearn import svm',\n",
       " 'import fbprophet',\n",
       " 'import sys',\n",
       " 'from xlrd import open_workbook',\n",
       " 'import keras',\n",
       " 'import sklearn',\n",
       " 'from sklearn.model_selection import KFold',\n",
       " 'import dash',\n",
       " 'import plotly as py',\n",
       " 'from sklearn.ensemble import RandomForestClassifier',\n",
       " 'import glob',\n",
       " 'from sklearn.preprocessing import RobustScaler',\n",
       " 'from fbprophet import Prophet',\n",
       " 'from sklearn.linear_model import LogisticRegression',\n",
       " 'from sklearn.preprocessing import OneHotEncoder',\n",
       " 'from sklearn.linear_model import LinearRegression',\n",
       " 'import gensim',\n",
       " 'from pyspark import SparkContext',\n",
       " 'from sklearn.decomposition import PCA',\n",
       " 'from sklearn.feature_extraction.text import TfidfVectorizer',\n",
       " 'import spacy',\n",
       " 'from sklearn.linear_model import ElasticNetCV',\n",
       " 'from sklearn.feature_extraction.text import CountVectorizer',\n",
       " 'import bokeh',\n",
       " 'from sklearn.cluster import KMeans',\n",
       " 'import tqdm',\n",
       " 'import os',\n",
       " 'import plotly.graph_objs as go',\n",
       " 'from sklearn.ensemble import GradientBoostingClassifier',\n",
       " 'import numpy as np',\n",
       " 'import textblob',\n",
       " 'import lightgbm as lgb',\n",
       " 'import re',\n",
       " 'from sklearn.ensemble import RandomForestRegressor',\n",
       " 'import matplotlib as mpl',\n",
       " 'import pickle',\n",
       " 'from pathlib import Path',\n",
       " 'import fastai',\n",
       " 'from scipy import signal as sg',\n",
       " 'from sklearn.manifold import TSNE',\n",
       " 'from scipy import stats',\n",
       " 'from sklearn.preprocessing import MinMaxScaler',\n",
       " 'from sklearn.preprocessing import StandardScaler',\n",
       " 'from openpyxl import load_workbook',\n",
       " 'import plotly.express as px',\n",
       " 'from sklearn.linear_model import LassoCV']"
      ]
     },
     "execution_count": 1,
     "metadata": {},
     "output_type": "execute_result"
    }
   ],
   "source": [
    "# Easiest Import Option\n",
    "\n",
    "## Libraries for Data Science - Import All Statement\n",
    "import pyforest\n",
    "\n",
    "lazy_imports()\n"
   ]
  },
  {
   "cell_type": "code",
   "execution_count": 2,
   "metadata": {},
   "outputs": [
    {
     "name": "stdout",
     "output_type": "stream",
     "text": [
      "Requirement already satisfied: pip in /Library/Frameworks/Python.framework/Versions/3.9/lib/python3.9/site-packages (22.1.2)\n",
      "Note: you may need to restart the kernel to use updated packages.\n",
      "pip 22.1.2 from /Library/Frameworks/Python.framework/Versions/3.9/lib/python3.9/site-packages/pip (python 3.9)\n",
      "Note: you may need to restart the kernel to use updated packages.\n"
     ]
    }
   ],
   "source": [
    "#Pip Update\n",
    "%pip install --upgrade pip\n",
    "%pip --version\n"
   ]
  },
  {
   "cell_type": "code",
   "execution_count": 3,
   "metadata": {},
   "outputs": [
    {
     "name": "stdout",
     "output_type": "stream",
     "text": [
      "Requirement already satisfied: pyforest in /Library/Frameworks/Python.framework/Versions/3.9/lib/python3.9/site-packages (1.1.0)\n",
      "Note: you may need to restart the kernel to use updated packages.\n",
      "Requirement already satisfied: folium in /Library/Frameworks/Python.framework/Versions/3.9/lib/python3.9/site-packages (0.12.1.post1)\n",
      "Requirement already satisfied: branca>=0.3.0 in /Library/Frameworks/Python.framework/Versions/3.9/lib/python3.9/site-packages (from folium) (0.5.0)\n",
      "Requirement already satisfied: numpy in /Library/Frameworks/Python.framework/Versions/3.9/lib/python3.9/site-packages (from folium) (1.23.0)\n",
      "Requirement already satisfied: requests in /Library/Frameworks/Python.framework/Versions/3.9/lib/python3.9/site-packages (from folium) (2.28.0)\n",
      "Requirement already satisfied: jinja2>=2.9 in /Library/Frameworks/Python.framework/Versions/3.9/lib/python3.9/site-packages (from folium) (2.11.3)\n",
      "Requirement already satisfied: MarkupSafe>=0.23 in /Library/Frameworks/Python.framework/Versions/3.9/lib/python3.9/site-packages (from jinja2>=2.9->folium) (2.1.1)\n",
      "Requirement already satisfied: charset-normalizer~=2.0.0 in /Library/Frameworks/Python.framework/Versions/3.9/lib/python3.9/site-packages (from requests->folium) (2.0.12)\n",
      "Requirement already satisfied: urllib3<1.27,>=1.21.1 in /Library/Frameworks/Python.framework/Versions/3.9/lib/python3.9/site-packages (from requests->folium) (1.26.9)\n",
      "Requirement already satisfied: certifi>=2017.4.17 in /Library/Frameworks/Python.framework/Versions/3.9/lib/python3.9/site-packages (from requests->folium) (2022.6.15)\n",
      "Requirement already satisfied: idna<4,>=2.5 in /Library/Frameworks/Python.framework/Versions/3.9/lib/python3.9/site-packages (from requests->folium) (3.3)\n",
      "Note: you may need to restart the kernel to use updated packages.\n",
      "Requirement already satisfied: pandas in /Library/Frameworks/Python.framework/Versions/3.9/lib/python3.9/site-packages (1.4.3)\n",
      "Requirement already satisfied: pytz>=2020.1 in /Library/Frameworks/Python.framework/Versions/3.9/lib/python3.9/site-packages (from pandas) (2022.1)\n",
      "Requirement already satisfied: python-dateutil>=2.8.1 in /Library/Frameworks/Python.framework/Versions/3.9/lib/python3.9/site-packages (from pandas) (2.8.2)\n",
      "Requirement already satisfied: numpy>=1.18.5 in /Library/Frameworks/Python.framework/Versions/3.9/lib/python3.9/site-packages (from pandas) (1.23.0)\n",
      "Requirement already satisfied: six>=1.5 in /Users/itr/Library/Python/3.9/lib/python/site-packages (from python-dateutil>=2.8.1->pandas) (1.15.0)\n",
      "Note: you may need to restart the kernel to use updated packages.\n",
      "Requirement already satisfied: matplotlib in /Library/Frameworks/Python.framework/Versions/3.9/lib/python3.9/site-packages (3.5.2)\n",
      "Requirement already satisfied: pillow>=6.2.0 in /Library/Frameworks/Python.framework/Versions/3.9/lib/python3.9/site-packages (from matplotlib) (9.1.1)\n",
      "Requirement already satisfied: packaging>=20.0 in /Library/Frameworks/Python.framework/Versions/3.9/lib/python3.9/site-packages (from matplotlib) (21.3)\n",
      "Requirement already satisfied: pyparsing>=2.2.1 in /Library/Frameworks/Python.framework/Versions/3.9/lib/python3.9/site-packages (from matplotlib) (3.0.9)\n",
      "Requirement already satisfied: fonttools>=4.22.0 in /Library/Frameworks/Python.framework/Versions/3.9/lib/python3.9/site-packages (from matplotlib) (4.33.3)\n",
      "Requirement already satisfied: python-dateutil>=2.7 in /Library/Frameworks/Python.framework/Versions/3.9/lib/python3.9/site-packages (from matplotlib) (2.8.2)\n",
      "Requirement already satisfied: numpy>=1.17 in /Library/Frameworks/Python.framework/Versions/3.9/lib/python3.9/site-packages (from matplotlib) (1.23.0)\n",
      "Requirement already satisfied: cycler>=0.10 in /Library/Frameworks/Python.framework/Versions/3.9/lib/python3.9/site-packages (from matplotlib) (0.11.0)\n",
      "Requirement already satisfied: kiwisolver>=1.0.1 in /Library/Frameworks/Python.framework/Versions/3.9/lib/python3.9/site-packages (from matplotlib) (1.4.3)\n",
      "Requirement already satisfied: six>=1.5 in /Users/itr/Library/Python/3.9/lib/python/site-packages (from python-dateutil>=2.7->matplotlib) (1.15.0)\n",
      "Note: you may need to restart the kernel to use updated packages.\n",
      "Requirement already satisfied: bonobo in /Library/Frameworks/Python.framework/Versions/3.9/lib/python3.9/site-packages (0.6.4)\n",
      "Requirement already satisfied: psutil~=5.4 in /Library/Frameworks/Python.framework/Versions/3.9/lib/python3.9/site-packages (from bonobo) (5.9.1)\n",
      "Requirement already satisfied: stevedore~=1.27 in /Library/Frameworks/Python.framework/Versions/3.9/lib/python3.9/site-packages (from bonobo) (1.32.0)\n",
      "Requirement already satisfied: jinja2~=2.9 in /Library/Frameworks/Python.framework/Versions/3.9/lib/python3.9/site-packages (from bonobo) (2.11.3)\n",
      "Requirement already satisfied: graphviz<0.9,>=0.8 in /Library/Frameworks/Python.framework/Versions/3.9/lib/python3.9/site-packages (from bonobo) (0.8.4)\n",
      "Requirement already satisfied: requests~=2.0 in /Library/Frameworks/Python.framework/Versions/3.9/lib/python3.9/site-packages (from bonobo) (2.28.0)\n",
      "Requirement already satisfied: python-slugify~=1.2.0 in /Library/Frameworks/Python.framework/Versions/3.9/lib/python3.9/site-packages (from bonobo) (1.2.6)\n",
      "Collecting packaging~=19.0\n",
      "  Using cached packaging-19.2-py2.py3-none-any.whl (30 kB)\n",
      "Requirement already satisfied: fs~=2.0 in /Library/Frameworks/Python.framework/Versions/3.9/lib/python3.9/site-packages (from bonobo) (2.4.16)\n",
      "Requirement already satisfied: mondrian~=0.7 in /Library/Frameworks/Python.framework/Versions/3.9/lib/python3.9/site-packages (from bonobo) (0.8.1)\n",
      "Requirement already satisfied: whistle~=1.0 in /Library/Frameworks/Python.framework/Versions/3.9/lib/python3.9/site-packages (from bonobo) (1.0.1)\n",
      "Requirement already satisfied: appdirs~=1.4.3 in /Library/Frameworks/Python.framework/Versions/3.9/lib/python3.9/site-packages (from fs~=2.0->bonobo) (1.4.4)\n",
      "Requirement already satisfied: six~=1.10 in /Users/itr/Library/Python/3.9/lib/python/site-packages (from fs~=2.0->bonobo) (1.15.0)\n",
      "Requirement already satisfied: setuptools in /Library/Frameworks/Python.framework/Versions/3.9/lib/python3.9/site-packages (from fs~=2.0->bonobo) (49.2.1)\n",
      "Requirement already satisfied: MarkupSafe>=0.23 in /Library/Frameworks/Python.framework/Versions/3.9/lib/python3.9/site-packages (from jinja2~=2.9->bonobo) (2.1.1)\n",
      "Requirement already satisfied: colorama<0.5,>=0.3.7 in /Library/Frameworks/Python.framework/Versions/3.9/lib/python3.9/site-packages (from mondrian~=0.7->bonobo) (0.4.5)\n",
      "Requirement already satisfied: pyparsing>=2.0.2 in /Library/Frameworks/Python.framework/Versions/3.9/lib/python3.9/site-packages (from packaging~=19.0->bonobo) (3.0.9)\n",
      "Requirement already satisfied: Unidecode>=0.04.16 in /Library/Frameworks/Python.framework/Versions/3.9/lib/python3.9/site-packages (from python-slugify~=1.2.0->bonobo) (1.3.4)\n",
      "Requirement already satisfied: certifi>=2017.4.17 in /Library/Frameworks/Python.framework/Versions/3.9/lib/python3.9/site-packages (from requests~=2.0->bonobo) (2022.6.15)\n",
      "Requirement already satisfied: urllib3<1.27,>=1.21.1 in /Library/Frameworks/Python.framework/Versions/3.9/lib/python3.9/site-packages (from requests~=2.0->bonobo) (1.26.9)\n",
      "Requirement already satisfied: charset-normalizer~=2.0.0 in /Library/Frameworks/Python.framework/Versions/3.9/lib/python3.9/site-packages (from requests~=2.0->bonobo) (2.0.12)\n",
      "Requirement already satisfied: idna<4,>=2.5 in /Library/Frameworks/Python.framework/Versions/3.9/lib/python3.9/site-packages (from requests~=2.0->bonobo) (3.3)\n",
      "Requirement already satisfied: pbr!=2.1.0,>=2.0.0 in /Library/Frameworks/Python.framework/Versions/3.9/lib/python3.9/site-packages (from stevedore~=1.27->bonobo) (5.9.0)\n",
      "Installing collected packages: packaging\n",
      "  Attempting uninstall: packaging\n",
      "    Found existing installation: packaging 21.3\n",
      "    Uninstalling packaging-21.3:\n",
      "      Successfully uninstalled packaging-21.3\n",
      "\u001b[31mERROR: pip's dependency resolver does not currently take into account all the packages that are installed. This behaviour is the source of the following dependency conflicts.\n",
      "matplotlib 3.5.2 requires packaging>=20.0, but you have packaging 19.2 which is incompatible.\u001b[0m\u001b[31m\n",
      "\u001b[0mSuccessfully installed packaging-19.2\n",
      "Note: you may need to restart the kernel to use updated packages.\n",
      "Requirement already satisfied: scrapy in /Library/Frameworks/Python.framework/Versions/3.9/lib/python3.9/site-packages (2.6.1)\n",
      "Requirement already satisfied: queuelib>=1.4.2 in /Library/Frameworks/Python.framework/Versions/3.9/lib/python3.9/site-packages (from scrapy) (1.6.2)\n",
      "Requirement already satisfied: protego>=0.1.15 in /Library/Frameworks/Python.framework/Versions/3.9/lib/python3.9/site-packages (from scrapy) (0.2.1)\n",
      "Requirement already satisfied: itemadapter>=0.1.0 in /Library/Frameworks/Python.framework/Versions/3.9/lib/python3.9/site-packages (from scrapy) (0.6.0)\n",
      "Requirement already satisfied: lxml>=3.5.0 in /Library/Frameworks/Python.framework/Versions/3.9/lib/python3.9/site-packages (from scrapy) (4.9.0)\n",
      "Requirement already satisfied: PyDispatcher>=2.0.5 in /Library/Frameworks/Python.framework/Versions/3.9/lib/python3.9/site-packages (from scrapy) (2.0.5)\n",
      "Requirement already satisfied: Twisted>=17.9.0 in /Library/Frameworks/Python.framework/Versions/3.9/lib/python3.9/site-packages (from scrapy) (22.4.0)\n",
      "Requirement already satisfied: service-identity>=16.0.0 in /Library/Frameworks/Python.framework/Versions/3.9/lib/python3.9/site-packages (from scrapy) (21.1.0)\n",
      "Requirement already satisfied: w3lib>=1.17.0 in /Library/Frameworks/Python.framework/Versions/3.9/lib/python3.9/site-packages (from scrapy) (1.22.0)\n",
      "Requirement already satisfied: cryptography>=2.0 in /Library/Frameworks/Python.framework/Versions/3.9/lib/python3.9/site-packages (from scrapy) (37.0.2)\n",
      "Requirement already satisfied: itemloaders>=1.0.1 in /Library/Frameworks/Python.framework/Versions/3.9/lib/python3.9/site-packages (from scrapy) (1.0.4)\n",
      "Requirement already satisfied: parsel>=1.5.0 in /Library/Frameworks/Python.framework/Versions/3.9/lib/python3.9/site-packages (from scrapy) (1.6.0)\n",
      "Requirement already satisfied: setuptools in /Library/Frameworks/Python.framework/Versions/3.9/lib/python3.9/site-packages (from scrapy) (49.2.1)\n",
      "Requirement already satisfied: tldextract in /Library/Frameworks/Python.framework/Versions/3.9/lib/python3.9/site-packages (from scrapy) (3.3.0)\n",
      "Requirement already satisfied: cssselect>=0.9.1 in /Library/Frameworks/Python.framework/Versions/3.9/lib/python3.9/site-packages (from scrapy) (1.1.0)\n",
      "Requirement already satisfied: zope.interface>=4.1.3 in /Library/Frameworks/Python.framework/Versions/3.9/lib/python3.9/site-packages (from scrapy) (5.4.0)\n",
      "Requirement already satisfied: pyOpenSSL>=16.2.0 in /Library/Frameworks/Python.framework/Versions/3.9/lib/python3.9/site-packages (from scrapy) (22.0.0)\n",
      "Requirement already satisfied: cffi>=1.12 in /Library/Frameworks/Python.framework/Versions/3.9/lib/python3.9/site-packages (from cryptography>=2.0->scrapy) (1.15.0)\n",
      "Requirement already satisfied: jmespath>=0.9.5 in /Library/Frameworks/Python.framework/Versions/3.9/lib/python3.9/site-packages (from itemloaders>=1.0.1->scrapy) (1.0.1)\n",
      "Requirement already satisfied: six>=1.6.0 in /Users/itr/Library/Python/3.9/lib/python/site-packages (from parsel>=1.5.0->scrapy) (1.15.0)\n",
      "Requirement already satisfied: attrs>=19.1.0 in /Library/Frameworks/Python.framework/Versions/3.9/lib/python3.9/site-packages (from service-identity>=16.0.0->scrapy) (21.4.0)\n",
      "Requirement already satisfied: pyasn1 in /Library/Frameworks/Python.framework/Versions/3.9/lib/python3.9/site-packages (from service-identity>=16.0.0->scrapy) (0.4.8)\n",
      "Requirement already satisfied: pyasn1-modules in /Library/Frameworks/Python.framework/Versions/3.9/lib/python3.9/site-packages (from service-identity>=16.0.0->scrapy) (0.2.8)\n",
      "Requirement already satisfied: hyperlink>=17.1.1 in /Library/Frameworks/Python.framework/Versions/3.9/lib/python3.9/site-packages (from Twisted>=17.9.0->scrapy) (21.0.0)\n",
      "Requirement already satisfied: typing-extensions>=3.6.5 in /Library/Frameworks/Python.framework/Versions/3.9/lib/python3.9/site-packages (from Twisted>=17.9.0->scrapy) (4.2.0)\n",
      "Requirement already satisfied: Automat>=0.8.0 in /Library/Frameworks/Python.framework/Versions/3.9/lib/python3.9/site-packages (from Twisted>=17.9.0->scrapy) (20.2.0)\n",
      "Requirement already satisfied: incremental>=21.3.0 in /Library/Frameworks/Python.framework/Versions/3.9/lib/python3.9/site-packages (from Twisted>=17.9.0->scrapy) (21.3.0)\n",
      "Requirement already satisfied: constantly>=15.1 in /Library/Frameworks/Python.framework/Versions/3.9/lib/python3.9/site-packages (from Twisted>=17.9.0->scrapy) (15.1.0)\n",
      "Requirement already satisfied: requests>=2.1.0 in /Library/Frameworks/Python.framework/Versions/3.9/lib/python3.9/site-packages (from tldextract->scrapy) (2.28.0)\n",
      "Requirement already satisfied: idna in /Library/Frameworks/Python.framework/Versions/3.9/lib/python3.9/site-packages (from tldextract->scrapy) (3.3)\n",
      "Requirement already satisfied: requests-file>=1.4 in /Library/Frameworks/Python.framework/Versions/3.9/lib/python3.9/site-packages (from tldextract->scrapy) (1.5.1)\n",
      "Requirement already satisfied: filelock>=3.0.8 in /Library/Frameworks/Python.framework/Versions/3.9/lib/python3.9/site-packages (from tldextract->scrapy) (3.7.1)\n",
      "Requirement already satisfied: pycparser in /Library/Frameworks/Python.framework/Versions/3.9/lib/python3.9/site-packages (from cffi>=1.12->cryptography>=2.0->scrapy) (2.21)\n",
      "Requirement already satisfied: urllib3<1.27,>=1.21.1 in /Library/Frameworks/Python.framework/Versions/3.9/lib/python3.9/site-packages (from requests>=2.1.0->tldextract->scrapy) (1.26.9)\n",
      "Requirement already satisfied: certifi>=2017.4.17 in /Library/Frameworks/Python.framework/Versions/3.9/lib/python3.9/site-packages (from requests>=2.1.0->tldextract->scrapy) (2022.6.15)\n",
      "Requirement already satisfied: charset-normalizer~=2.0.0 in /Library/Frameworks/Python.framework/Versions/3.9/lib/python3.9/site-packages (from requests>=2.1.0->tldextract->scrapy) (2.0.12)\n",
      "Note: you may need to restart the kernel to use updated packages.\n",
      "Requirement already satisfied: beautifulsoup4 in /Library/Frameworks/Python.framework/Versions/3.9/lib/python3.9/site-packages (4.11.1)\n",
      "Requirement already satisfied: soupsieve>1.2 in /Library/Frameworks/Python.framework/Versions/3.9/lib/python3.9/site-packages (from beautifulsoup4) (2.3.2.post1)\n",
      "Note: you may need to restart the kernel to use updated packages.\n",
      "Requirement already satisfied: seaborn in /Library/Frameworks/Python.framework/Versions/3.9/lib/python3.9/site-packages (0.11.2)\n",
      "Requirement already satisfied: scipy>=1.0 in /Library/Frameworks/Python.framework/Versions/3.9/lib/python3.9/site-packages (from seaborn) (1.8.1)\n",
      "Requirement already satisfied: pandas>=0.23 in /Library/Frameworks/Python.framework/Versions/3.9/lib/python3.9/site-packages (from seaborn) (1.4.3)\n",
      "Requirement already satisfied: numpy>=1.15 in /Library/Frameworks/Python.framework/Versions/3.9/lib/python3.9/site-packages (from seaborn) (1.23.0)\n",
      "Requirement already satisfied: matplotlib>=2.2 in /Library/Frameworks/Python.framework/Versions/3.9/lib/python3.9/site-packages (from seaborn) (3.5.2)\n",
      "Requirement already satisfied: kiwisolver>=1.0.1 in /Library/Frameworks/Python.framework/Versions/3.9/lib/python3.9/site-packages (from matplotlib>=2.2->seaborn) (1.4.3)\n",
      "Requirement already satisfied: pyparsing>=2.2.1 in /Library/Frameworks/Python.framework/Versions/3.9/lib/python3.9/site-packages (from matplotlib>=2.2->seaborn) (3.0.9)\n",
      "Requirement already satisfied: fonttools>=4.22.0 in /Library/Frameworks/Python.framework/Versions/3.9/lib/python3.9/site-packages (from matplotlib>=2.2->seaborn) (4.33.3)\n",
      "Requirement already satisfied: cycler>=0.10 in /Library/Frameworks/Python.framework/Versions/3.9/lib/python3.9/site-packages (from matplotlib>=2.2->seaborn) (0.11.0)\n",
      "Requirement already satisfied: python-dateutil>=2.7 in /Library/Frameworks/Python.framework/Versions/3.9/lib/python3.9/site-packages (from matplotlib>=2.2->seaborn) (2.8.2)\n",
      "Requirement already satisfied: pillow>=6.2.0 in /Library/Frameworks/Python.framework/Versions/3.9/lib/python3.9/site-packages (from matplotlib>=2.2->seaborn) (9.1.1)\n",
      "Collecting packaging>=20.0\n",
      "  Using cached packaging-21.3-py3-none-any.whl (40 kB)\n",
      "Requirement already satisfied: pytz>=2020.1 in /Library/Frameworks/Python.framework/Versions/3.9/lib/python3.9/site-packages (from pandas>=0.23->seaborn) (2022.1)\n",
      "Requirement already satisfied: six>=1.5 in /Users/itr/Library/Python/3.9/lib/python/site-packages (from python-dateutil>=2.7->matplotlib>=2.2->seaborn) (1.15.0)\n",
      "Installing collected packages: packaging\n",
      "  Attempting uninstall: packaging\n",
      "    Found existing installation: packaging 19.2\n",
      "    Uninstalling packaging-19.2:\n",
      "      Successfully uninstalled packaging-19.2\n",
      "\u001b[31mERROR: pip's dependency resolver does not currently take into account all the packages that are installed. This behaviour is the source of the following dependency conflicts.\n",
      "bonobo 0.6.4 requires packaging~=19.0, but you have packaging 21.3 which is incompatible.\u001b[0m\u001b[31m\n",
      "\u001b[0mSuccessfully installed packaging-21.3\n",
      "Note: you may need to restart the kernel to use updated packages.\n",
      "Requirement already satisfied: geoplotlib in /Library/Frameworks/Python.framework/Versions/3.9/lib/python3.9/site-packages (0.3.2)\n",
      "Note: you may need to restart the kernel to use updated packages.\n",
      "Requirement already satisfied: Pyglet in /Library/Frameworks/Python.framework/Versions/3.9/lib/python3.9/site-packages (1.5.26)\n",
      "Note: you may need to restart the kernel to use updated packages.\n",
      "Requirement already satisfied: plotly in /Library/Frameworks/Python.framework/Versions/3.9/lib/python3.9/site-packages (5.9.0)\n",
      "Requirement already satisfied: tenacity>=6.2.0 in /Library/Frameworks/Python.framework/Versions/3.9/lib/python3.9/site-packages (from plotly) (8.0.1)\n",
      "Note: you may need to restart the kernel to use updated packages.\n"
     ]
    }
   ],
   "source": [
    "# Installations and Imports for creating Data Analytics Environment\n",
    "\n",
    "%pip install --upgrade pyforest\n",
    " #Comment | %python -m pyforest install_extensions\n",
    "%pip install --upgrade folium\n",
    "%pip install pandas\n",
    "%pip install matplotlib\n",
    "%pip install bonobo\n",
    "%pip install scrapy # Project Description - https://pypi.org/project/Scrapy/\n",
    "%pip install beautifulsoup4 # Project Description - https://pypi.org/project/beautifulsoup4/\n",
    "%pip install seaborn\n",
    "%pip install geoplotlib\n",
    "%pip install Pyglet\n",
    "%pip install plotly\n"
   ]
  },
  {
   "cell_type": "markdown",
   "metadata": {},
   "source": [
    "### Libraries Imported Explicitly"
   ]
  },
  {
   "cell_type": "code",
   "execution_count": 5,
   "metadata": {},
   "outputs": [],
   "source": [
    "## Data Mining - explicit mention\n",
    "import scrapy\n",
    "from bs4 import BeautifulSoup"
   ]
  },
  {
   "cell_type": "code",
   "execution_count": 6,
   "metadata": {},
   "outputs": [],
   "source": [
    "## Python to Web Queries Made easier\n",
    "import requests\n",
    "import json\n",
    "import urllib3\n",
    "from urllib3 import request"
   ]
  },
  {
   "cell_type": "code",
   "execution_count": 7,
   "metadata": {},
   "outputs": [],
   "source": [
    "## to handle certificate verification\n",
    "import certifi"
   ]
  },
  {
   "cell_type": "code",
   "execution_count": 8,
   "metadata": {},
   "outputs": [],
   "source": [
    "## Data Processing and Modeling - explicit mention\n",
    "import numpy as np\n",
    "import pandas as pd\n",
    "import matplotlib.pyplot as plt"
   ]
  },
  {
   "cell_type": "code",
   "execution_count": 9,
   "metadata": {},
   "outputs": [
    {
     "name": "stderr",
     "output_type": "stream",
     "text": [
      "2022-07-04 11:02:48.586 Python[17281:955322] ApplePersistenceIgnoreState: Existing state will not be touched. New state will be written to /var/folders/n9/m2bk4f3j213_b53l1b68fd5c0000gn/T/org.python.python.savedState\n"
     ]
    }
   ],
   "source": [
    "## Data Viz and Plotting\n",
    "import seaborn as sns\n",
    "\n",
    "import geoplotlib\n",
    "from geoplotlib.utils import read_csv, BoundingBox\n",
    "\n",
    "import plotly.express as px\n",
    "\n",
    "## Dataviz Libraries Appendix\n",
    "# Link: https://towardsdatascience.com/best-libraries-for-geospatial-data-visualisation-in-python-d23834173b35"
   ]
  },
  {
   "cell_type": "code",
   "execution_count": 10,
   "metadata": {},
   "outputs": [],
   "source": [
    "## Pipeline - ETL Library\n",
    "import bonobo #Footnote: https://www.bonobo-project.org/\n"
   ]
  },
  {
   "cell_type": "code",
   "execution_count": 11,
   "metadata": {},
   "outputs": [
    {
     "ename": "SyntaxError",
     "evalue": "invalid syntax (617057482.py, line 3)",
     "output_type": "error",
     "traceback": [
      "\u001b[0;36m  File \u001b[0;32m\"/var/folders/n9/m2bk4f3j213_b53l1b68fd5c0000gn/T/ipykernel_17281/617057482.py\"\u001b[0;36m, line \u001b[0;32m3\u001b[0m\n\u001b[0;31m    cert_reqs==|CERT_REQUIRED|\u001b[0m\n\u001b[0m               ^\u001b[0m\n\u001b[0;31mSyntaxError\u001b[0m\u001b[0;31m:\u001b[0m invalid syntax\n"
     ]
    }
   ],
   "source": [
    "# Handling Certificate Validation (see pip install certifi)\n",
    "http = urllib3.PoolManager(\n",
    "      cert_reqs==|CERT_REQUIRED|\n",
    "      ca_certs==certifi.where())"
   ]
  },
  {
   "cell_type": "code",
   "execution_count": null,
   "metadata": {},
   "outputs": [],
   "source": [
    "# to handle certificate verification\n",
    "import certifi"
   ]
  },
  {
   "cell_type": "markdown",
   "metadata": {},
   "source": [
    "### Import Datasets and Accompanying Details\n",
    "\n"
   ]
  },
  {
   "cell_type": "code",
   "execution_count": null,
   "metadata": {},
   "outputs": [],
   "source": [
    "# Import Data\n"
   ]
  },
  {
   "cell_type": "markdown",
   "metadata": {},
   "source": [
    "## Analysis Steps\n"
   ]
  },
  {
   "cell_type": "markdown",
   "metadata": {},
   "source": [
    "Planning for the Problem\n",
    "\n",
    "* Codify the problem\n",
    "* Brainstorm game plan\n",
    "* Resources\n",
    "* Deadlines"
   ]
  },
  {
   "cell_type": "markdown",
   "metadata": {},
   "source": [
    "# Appendix"
   ]
  },
  {
   "cell_type": "markdown",
   "metadata": {},
   "source": [
    "## Resources Referenced Throughout Research\n",
    "\n",
    "***Institutions***\n",
    "* [Centers for Disease Control and Prevention's National Center for Health Statistics (NCHS)](https://www.cdc.gov/nchs/maternal-mortality/data.htm)\n",
    "\n",
    "***Data Sources***\n",
    "* [National Center for Health Statistics. Compressed Mortality File, 1999-2016 (machine readable data file and documentation, CD‑ROM Series 20, No. 2V) as compiled from data provided by the 57 vital statistics jurisdictions through the Vital Statistics Cooperative Program.  Hyattsville, Maryland. 2017.](https://www.cdc.gov/nchs/data_access/cmf.htm)\n",
    "\n",
    "* [Maternal deaths and mortality rates: Each state, the District of Columbia, United States, 2018‐2020](https://www.cdc.gov/nchs/maternal-mortality/MMR-2018-2020-State-Data.pdf)\n",
    "\n",
    "* [Centers for Disease Control and Prevention's Reproductive Health Data and Statistics](https://www.cdc.gov/reproductivehealth/data_stats/index.htm)\n",
    "\n",
    "\n",
    "***Articles/Academic Papers***\n",
    "* [University of Colorado Boulder - Study: Banning abortion would boost maternal mortality by double digits](https://www.colorado.edu/today/2021/09/08/study-banning-abortion-would-boost-maternal-mortality-double-digits)\n",
    "\n",
    "* [National Institute of Health's Office of Research on Women's Health - What Are Maternal Morbidity and Mortality?](https://orwh.od.nih.gov/mmm-portal/what-mmm)\n",
    "\n",
    "* [Nelson, D.B., Moniz, M.H. & Davis, M.M. Population-level factors associated with maternal mortality in the United States, 1997–2012. BMC Public Health 18, 1007 (2018)](https://bmcpublichealth.biomedcentral.com/articles/10.1186/s12889-018-5935-2)\n",
    "\n",
    "* [The Pew Charitable Trusts | Critics Fear Abortion Bans Could Jeopardize Health of Pregnant Women by Michael Ollove](https://www.pewtrusts.org/en/research-and-analysis/blogs/stateline/2022/06/22/critics-fear-abortion-bans-could-jeopardize-health-of-pregnant-women)\n",
    "\n",
    "* [National Institutes of Health | Eunice Kennedy Shriver National Institute of Child Health and Human Development | What factors increase the risk of maternal morbidity and mortality?](https://www.nichd.nih.gov/health/topics/maternal-morbidity-mortality/conditioninfo/factors#)\n",
    "\n",
    "* [The Guardian | Tracking Where Abortion Laws Stand in Every US State](https://www.theguardian.com/us-news/ng-interactive/2022/jun/28/tracking-where-abortion-laws-stand-in-every-state)"
   ]
  },
  {
   "cell_type": "markdown",
   "metadata": {},
   "source": [
    "## Explaining Employed\n",
    "\n",
    "| Library | Summary | Elaboration |\n",
    "| --- | --- | ---- |\n",
    "| Pyforest | Quick Import All | All of the data science industry standard libraries can be added to the file at once. But please take note to confirm a handful of libraries are on the list.\n",
    "| Pandas |\n",
    "| from sklearn.linear_model import RidgeCV|\n",
    " |from sklearn.feature_extraction.text import CountVectorizer|\n",
    " |import dash|\n",
    " |from sklearn.model_selection import StratifiedKFold|\n",
    " |import seaborn as sns|\n",
    " |from sklearn import metrics|\n",
    " |from pathlib import Path|\n",
    " |from sklearn.linear_model import LogisticRegression|\n",
    " |import os|\n",
    " |import tensorflow as tf|\n",
    " |import sklearn|\n",
    " |import plotly as py|\n",
    " |from pyspark import SparkContext|\n",
    " |from sklearn.linear_model import LinearRegression|\n",
    " |from sklearn.preprocessing import MinMaxScaler|\n",
    " |from sklearn.preprocessing import RobustScaler|\n",
    " |from sklearn.decomposition import PCA|\n",
    " |from PIL import Image|\n",
    " |import tqdm|\n",
    " |import spacy|\n",
    " |import lightgbm as lgb|\n",
    " |from sklearn.preprocessing import LabelEncoder|\n",
    " |from sklearn.linear_model import LassoCV|\n",
    " |from sklearn.manifold import TSNE|\n",
    " |import pydot|\n",
    " |import keras|\n",
    " |from sklearn.ensemble import RandomForestRegressor|\n",
    " |import fbprophet|\n",
    " |import xgboost as xgb|\n",
    " |from sklearn import svm|\n",
    " |from sklearn.feature_extraction.text import TfidfVectorizer|\n",
    " |from statsmodels.tsa.arima_model import ARIMA|\n",
    " |from sklearn.linear_model import ElasticNet|\n",
    " |from scipy import stats|\n",
    " |from sklearn.preprocessing import OneHotEncoder|\n",
    " |import pandas as pd|\n",
    " |from sklearn.model_selection import train_test_split|\n",
    " |from sklearn.ensemble import GradientBoostingRegressor|\n",
    " |import glob|\n",
    " |import plotly.graph_objs as go|\n",
    " |import skimage|\n",
    " |import torch|\n",
    " |from sklearn.model_selection import GridSearchCV|\n",
    " |import datetime as dt|\n",
    " |from xlrd import open_workbook|\n",
    " |from sklearn.linear_model import ElasticNetCV|\n",
    " |from sklearn.preprocessing import StandardScaler|\n",
    " |from sklearn.model_selection import cross_val_score|\n",
    " |import statsmodels.api as sm|\n",
    " |from scipy import signal as sg|\n",
    " |import fastai|\n",
    " |from dask import dataframe as dd|\n",
    " |from sklearn.ensemble import GradientBoostingClassifier|\n",
    " |from sklearn.preprocessing import PolynomialFeatures|\n",
    " |import awswrangler as wr|\n",
    " |import altair as alt|\n",
    " |from openpyxl import load_workbook|\n",
    " |import sys|\n",
    " |import pickle|\n",
    " |from sklearn.model_selection import RandomizedSearchCV|\n",
    " |from sklearn.ensemble import RandomForestClassifier|\n",
    " |import bokeh|\n",
    " |import imutils|\n",
    " |import matplotlib as mpl|\n",
    " |import cv2|\n",
    " |from sklearn.linear_model import Ridge|\n",
    " |import re|\n",
    " |import statistics|\n",
    " |import plotly.express as px|\n",
    " |from sklearn.cluster import KMeans|\n",
    " |import numpy as np|\n",
    " |from sklearn.linear_model import Lasso|\n",
    " |from fbprophet import Prophet|\n",
    " |import gensim|\n",
    " |import nltk|\n",
    " |import textblob|\n",
    " |from sklearn.model_selection import KFold|\n",
    " |import matplotlib.pyplot as plt|\n",
    " |from sklearn.impute import SimpleImputer|]\n"
   ]
  }
 ],
 "metadata": {
  "kernelspec": {
   "display_name": "Python 3.9.0 64-bit",
   "language": "python",
   "name": "python3"
  },
  "language_info": {
   "codemirror_mode": {
    "name": "ipython",
    "version": 3
   },
   "file_extension": ".py",
   "mimetype": "text/x-python",
   "name": "python",
   "nbconvert_exporter": "python",
   "pygments_lexer": "ipython3",
   "version": "3.9.0"
  },
  "orig_nbformat": 4,
  "vscode": {
   "interpreter": {
    "hash": "aee8b7b246df8f9039afb4144a1f6fd8d2ca17a180786b69acc140d282b71a49"
   }
  }
 },
 "nbformat": 4,
 "nbformat_minor": 2
}
