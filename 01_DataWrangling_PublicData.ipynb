{
  "cells": [
    {
      "cell_type": "markdown",
      "metadata": {
        "id": "view-in-github",
        "colab_type": "text"
      },
      "source": [
        "<a href=\"https://colab.research.google.com/github/TuckerRasbury/00_MaternalMortalityandAbortionRelatedStatistics/blob/main/01_DataWrangling_PublicData.ipynb\" target=\"_parent\"><img src=\"https://colab.research.google.com/assets/colab-badge.svg\" alt=\"Open In Colab\"/></a>"
      ]
    },
    {
      "cell_type": "markdown",
      "metadata": {
        "id": "vFKuIZRaeo2Z"
      },
      "source": [
        "# Projecting Heightened Maternal Mortality\n",
        "- _by: Isaac D. Tucker-Rasbury_\n",
        "- _Start: 6/27/2022_"
      ]
    },
    {
      "cell_type": "markdown",
      "metadata": {
        "id": "gnXCk_lqeo2e"
      },
      "source": [
        "##### Summary\n",
        "Ingesting data from reputable sources and conducting a regression analysis to forecast maternal mortality by state. \n",
        "\n",
        "##### Objective\n",
        "* 1. Subject Matter - Mapping Maternal Morbidity Factors On the US and then Layering in abortion care restrictions and bans.\n",
        "* 2. Skillset Used - data wrangling to visualization.\n",
        "* 3. Goal - Leverage Python to aggregate data fromb Public Sources and Subject matter expert sites."
      ]
    },
    {
      "cell_type": "markdown",
      "metadata": {
        "id": "0aniY1Preo2f"
      },
      "source": [
        "## Environment Setup and Dataset Imports "
      ]
    },
    {
      "cell_type": "markdown",
      "metadata": {
        "id": "_fC4qqCpeo2g"
      },
      "source": [
        "### Initial Imports for creating Data Analytics Environment"
      ]
    },
    {
      "cell_type": "code",
      "execution_count": null,
      "metadata": {
        "id": "tLO9CEaQeo2g"
      },
      "outputs": [],
      "source": [
        "# Easiest Import Option\n",
        "\n",
        "## Libraries for Data Science - Import All Statement\n",
        "# OFF SWITCH -> import pyforest\n",
        "\n",
        "# OFF SWITCH -> lazy_imports()\n"
      ]
    },
    {
      "cell_type": "code",
      "execution_count": null,
      "metadata": {
        "id": "ytj6Nrqceo2k",
        "colab": {
          "base_uri": "https://localhost:8080/"
        },
        "outputId": "95b5e1bb-0390-47c2-e5dd-cb76279f0d47"
      },
      "outputs": [
        {
          "output_type": "stream",
          "name": "stdout",
          "text": [
            "Looking in indexes: https://pypi.org/simple, https://us-python.pkg.dev/colab-wheels/public/simple/\n",
            "Requirement already satisfied: pip in /usr/local/lib/python3.7/dist-packages (22.3.1)\n",
            "\u001b[33mWARNING: Running pip as the 'root' user can result in broken permissions and conflicting behaviour with the system package manager. It is recommended to use a virtual environment instead: https://pip.pypa.io/warnings/venv\u001b[0m\u001b[33m\n",
            "\u001b[0mpip 22.3.1 from /usr/local/lib/python3.7/dist-packages/pip (python 3.7)\n"
          ]
        }
      ],
      "source": [
        "#Pip Update\n",
        "%pip install --upgrade pip\n",
        "%pip --version\n"
      ]
    },
    {
      "cell_type": "code",
      "execution_count": null,
      "metadata": {
        "id": "ssWa-OZheo2l",
        "colab": {
          "base_uri": "https://localhost:8080/"
        },
        "outputId": "742c1bde-07a0-43f5-f951-7694b0b8d359"
      },
      "outputs": [
        {
          "output_type": "stream",
          "name": "stdout",
          "text": [
            "Looking in indexes: https://pypi.org/simple, https://us-python.pkg.dev/colab-wheels/public/simple/\n",
            "Requirement already satisfied: pyforest in /usr/local/lib/python3.7/dist-packages (1.1.0)\n",
            "\u001b[33mWARNING: Running pip as the 'root' user can result in broken permissions and conflicting behaviour with the system package manager. It is recommended to use a virtual environment instead: https://pip.pypa.io/warnings/venv\u001b[0m\u001b[33m\n",
            "\u001b[0mLooking in indexes: https://pypi.org/simple, https://us-python.pkg.dev/colab-wheels/public/simple/\n",
            "Requirement already satisfied: folium in /usr/local/lib/python3.7/dist-packages (0.13.0)\n",
            "Requirement already satisfied: requests in /usr/local/lib/python3.7/dist-packages (from folium) (2.23.0)\n",
            "Requirement already satisfied: jinja2>=2.9 in /usr/local/lib/python3.7/dist-packages (from folium) (2.11.3)\n",
            "Requirement already satisfied: branca>=0.3.0 in /usr/local/lib/python3.7/dist-packages (from folium) (0.5.0)\n",
            "Requirement already satisfied: numpy in /usr/local/lib/python3.7/dist-packages (from folium) (1.21.6)\n",
            "Requirement already satisfied: MarkupSafe>=0.23 in /usr/local/lib/python3.7/dist-packages (from jinja2>=2.9->folium) (2.0.1)\n",
            "Requirement already satisfied: urllib3!=1.25.0,!=1.25.1,<1.26,>=1.21.1 in /usr/local/lib/python3.7/dist-packages (from requests->folium) (1.24.3)\n",
            "Requirement already satisfied: idna<3,>=2.5 in /usr/local/lib/python3.7/dist-packages (from requests->folium) (2.10)\n",
            "Requirement already satisfied: chardet<4,>=3.0.2 in /usr/local/lib/python3.7/dist-packages (from requests->folium) (3.0.4)\n",
            "Requirement already satisfied: certifi>=2017.4.17 in /usr/local/lib/python3.7/dist-packages (from requests->folium) (2022.9.24)\n",
            "\u001b[33mWARNING: Running pip as the 'root' user can result in broken permissions and conflicting behaviour with the system package manager. It is recommended to use a virtual environment instead: https://pip.pypa.io/warnings/venv\u001b[0m\u001b[33m\n",
            "\u001b[0mLooking in indexes: https://pypi.org/simple, https://us-python.pkg.dev/colab-wheels/public/simple/\n",
            "Requirement already satisfied: pandas in /usr/local/lib/python3.7/dist-packages (1.3.5)\n",
            "Requirement already satisfied: python-dateutil>=2.7.3 in /usr/local/lib/python3.7/dist-packages (from pandas) (2.8.2)\n",
            "Requirement already satisfied: numpy>=1.17.3 in /usr/local/lib/python3.7/dist-packages (from pandas) (1.21.6)\n",
            "Requirement already satisfied: pytz>=2017.3 in /usr/local/lib/python3.7/dist-packages (from pandas) (2022.6)\n",
            "Requirement already satisfied: six>=1.5 in /usr/local/lib/python3.7/dist-packages (from python-dateutil>=2.7.3->pandas) (1.15.0)\n",
            "\u001b[33mWARNING: Running pip as the 'root' user can result in broken permissions and conflicting behaviour with the system package manager. It is recommended to use a virtual environment instead: https://pip.pypa.io/warnings/venv\u001b[0m\u001b[33m\n",
            "\u001b[0mLooking in indexes: https://pypi.org/simple, https://us-python.pkg.dev/colab-wheels/public/simple/\n",
            "Requirement already satisfied: matplotlib in /usr/local/lib/python3.7/dist-packages (3.2.2)\n",
            "Requirement already satisfied: kiwisolver>=1.0.1 in /usr/local/lib/python3.7/dist-packages (from matplotlib) (1.4.4)\n",
            "Requirement already satisfied: cycler>=0.10 in /usr/local/lib/python3.7/dist-packages (from matplotlib) (0.11.0)\n",
            "Requirement already satisfied: numpy>=1.11 in /usr/local/lib/python3.7/dist-packages (from matplotlib) (1.21.6)\n",
            "Requirement already satisfied: python-dateutil>=2.1 in /usr/local/lib/python3.7/dist-packages (from matplotlib) (2.8.2)\n",
            "Requirement already satisfied: pyparsing!=2.0.4,!=2.1.2,!=2.1.6,>=2.0.1 in /usr/local/lib/python3.7/dist-packages (from matplotlib) (3.0.9)\n",
            "Requirement already satisfied: typing-extensions in /usr/local/lib/python3.7/dist-packages (from kiwisolver>=1.0.1->matplotlib) (4.1.1)\n",
            "Requirement already satisfied: six>=1.5 in /usr/local/lib/python3.7/dist-packages (from python-dateutil>=2.1->matplotlib) (1.15.0)\n",
            "\u001b[33mWARNING: Running pip as the 'root' user can result in broken permissions and conflicting behaviour with the system package manager. It is recommended to use a virtual environment instead: https://pip.pypa.io/warnings/venv\u001b[0m\u001b[33m\n",
            "\u001b[0mLooking in indexes: https://pypi.org/simple, https://us-python.pkg.dev/colab-wheels/public/simple/\n",
            "Requirement already satisfied: bonobo in /usr/local/lib/python3.7/dist-packages (0.6.4)\n",
            "Requirement already satisfied: stevedore~=1.27 in /usr/local/lib/python3.7/dist-packages (from bonobo) (1.32.0)\n",
            "Requirement already satisfied: whistle~=1.0 in /usr/local/lib/python3.7/dist-packages (from bonobo) (1.0.1)\n",
            "Requirement already satisfied: mondrian~=0.7 in /usr/local/lib/python3.7/dist-packages (from bonobo) (0.8.1)\n",
            "Requirement already satisfied: requests~=2.0 in /usr/local/lib/python3.7/dist-packages (from bonobo) (2.23.0)\n",
            "Requirement already satisfied: packaging~=19.0 in /usr/local/lib/python3.7/dist-packages (from bonobo) (19.2)\n",
            "Requirement already satisfied: graphviz<0.9,>=0.8 in /usr/local/lib/python3.7/dist-packages (from bonobo) (0.8.4)\n",
            "Requirement already satisfied: fs~=2.0 in /usr/local/lib/python3.7/dist-packages (from bonobo) (2.4.16)\n",
            "Requirement already satisfied: jinja2~=2.9 in /usr/local/lib/python3.7/dist-packages (from bonobo) (2.11.3)\n",
            "Requirement already satisfied: psutil~=5.4 in /usr/local/lib/python3.7/dist-packages (from bonobo) (5.4.8)\n",
            "Requirement already satisfied: python-slugify~=1.2.0 in /usr/local/lib/python3.7/dist-packages (from bonobo) (1.2.6)\n",
            "Requirement already satisfied: setuptools in /usr/local/lib/python3.7/dist-packages (from fs~=2.0->bonobo) (57.4.0)\n",
            "Requirement already satisfied: appdirs~=1.4.3 in /usr/local/lib/python3.7/dist-packages (from fs~=2.0->bonobo) (1.4.4)\n",
            "Requirement already satisfied: six~=1.10 in /usr/local/lib/python3.7/dist-packages (from fs~=2.0->bonobo) (1.15.0)\n",
            "Requirement already satisfied: MarkupSafe>=0.23 in /usr/local/lib/python3.7/dist-packages (from jinja2~=2.9->bonobo) (2.0.1)\n",
            "Requirement already satisfied: colorama<0.5,>=0.3.7 in /usr/local/lib/python3.7/dist-packages (from mondrian~=0.7->bonobo) (0.4.6)\n",
            "Requirement already satisfied: pyparsing>=2.0.2 in /usr/local/lib/python3.7/dist-packages (from packaging~=19.0->bonobo) (3.0.9)\n",
            "Requirement already satisfied: Unidecode>=0.04.16 in /usr/local/lib/python3.7/dist-packages (from python-slugify~=1.2.0->bonobo) (1.3.6)\n",
            "Requirement already satisfied: certifi>=2017.4.17 in /usr/local/lib/python3.7/dist-packages (from requests~=2.0->bonobo) (2022.9.24)\n",
            "Requirement already satisfied: idna<3,>=2.5 in /usr/local/lib/python3.7/dist-packages (from requests~=2.0->bonobo) (2.10)\n",
            "Requirement already satisfied: chardet<4,>=3.0.2 in /usr/local/lib/python3.7/dist-packages (from requests~=2.0->bonobo) (3.0.4)\n",
            "Requirement already satisfied: urllib3!=1.25.0,!=1.25.1,<1.26,>=1.21.1 in /usr/local/lib/python3.7/dist-packages (from requests~=2.0->bonobo) (1.24.3)\n",
            "Requirement already satisfied: pbr!=2.1.0,>=2.0.0 in /usr/local/lib/python3.7/dist-packages (from stevedore~=1.27->bonobo) (5.11.0)\n",
            "\u001b[33mWARNING: Running pip as the 'root' user can result in broken permissions and conflicting behaviour with the system package manager. It is recommended to use a virtual environment instead: https://pip.pypa.io/warnings/venv\u001b[0m\u001b[33m\n",
            "\u001b[0mLooking in indexes: https://pypi.org/simple, https://us-python.pkg.dev/colab-wheels/public/simple/\n",
            "Requirement already satisfied: scrapy in /usr/local/lib/python3.7/dist-packages (2.7.1)\n",
            "Requirement already satisfied: lxml>=4.3.0 in /usr/local/lib/python3.7/dist-packages (from scrapy) (4.9.1)\n",
            "Requirement already satisfied: queuelib>=1.4.2 in /usr/local/lib/python3.7/dist-packages (from scrapy) (1.6.2)\n",
            "Requirement already satisfied: pyOpenSSL>=21.0.0 in /usr/local/lib/python3.7/dist-packages (from scrapy) (22.1.0)\n",
            "Requirement already satisfied: zope.interface>=5.1.0 in /usr/local/lib/python3.7/dist-packages (from scrapy) (5.5.1)\n",
            "Requirement already satisfied: service-identity>=18.1.0 in /usr/local/lib/python3.7/dist-packages (from scrapy) (21.1.0)\n",
            "Requirement already satisfied: Twisted>=18.9.0 in /usr/local/lib/python3.7/dist-packages (from scrapy) (22.10.0)\n",
            "Requirement already satisfied: parsel>=1.5.0 in /usr/local/lib/python3.7/dist-packages (from scrapy) (1.7.0)\n",
            "Requirement already satisfied: w3lib>=1.17.0 in /usr/local/lib/python3.7/dist-packages (from scrapy) (2.0.1)\n",
            "Requirement already satisfied: PyDispatcher>=2.0.5 in /usr/local/lib/python3.7/dist-packages (from scrapy) (2.0.6)\n",
            "Requirement already satisfied: protego>=0.1.15 in /usr/local/lib/python3.7/dist-packages (from scrapy) (0.2.1)\n",
            "Requirement already satisfied: setuptools in /usr/local/lib/python3.7/dist-packages (from scrapy) (57.4.0)\n",
            "Requirement already satisfied: tldextract in /usr/local/lib/python3.7/dist-packages (from scrapy) (3.4.0)\n",
            "Requirement already satisfied: cssselect>=0.9.1 in /usr/local/lib/python3.7/dist-packages (from scrapy) (1.2.0)\n",
            "Requirement already satisfied: itemloaders>=1.0.1 in /usr/local/lib/python3.7/dist-packages (from scrapy) (1.0.6)\n",
            "Requirement already satisfied: itemadapter>=0.1.0 in /usr/local/lib/python3.7/dist-packages (from scrapy) (0.7.0)\n",
            "Requirement already satisfied: cryptography>=3.3 in /usr/local/lib/python3.7/dist-packages (from scrapy) (38.0.3)\n",
            "Requirement already satisfied: packaging in /usr/local/lib/python3.7/dist-packages (from scrapy) (19.2)\n",
            "Requirement already satisfied: cffi>=1.12 in /usr/local/lib/python3.7/dist-packages (from cryptography>=3.3->scrapy) (1.15.1)\n",
            "Requirement already satisfied: jmespath>=0.9.5 in /usr/local/lib/python3.7/dist-packages (from itemloaders>=1.0.1->scrapy) (1.0.1)\n",
            "Requirement already satisfied: six in /usr/local/lib/python3.7/dist-packages (from protego>=0.1.15->scrapy) (1.15.0)\n",
            "Requirement already satisfied: pyasn1 in /usr/local/lib/python3.7/dist-packages (from service-identity>=18.1.0->scrapy) (0.4.8)\n",
            "Requirement already satisfied: pyasn1-modules in /usr/local/lib/python3.7/dist-packages (from service-identity>=18.1.0->scrapy) (0.2.8)\n",
            "Requirement already satisfied: attrs>=19.1.0 in /usr/local/lib/python3.7/dist-packages (from service-identity>=18.1.0->scrapy) (22.1.0)\n",
            "Requirement already satisfied: incremental>=21.3.0 in /usr/local/lib/python3.7/dist-packages (from Twisted>=18.9.0->scrapy) (22.10.0)\n",
            "Requirement already satisfied: Automat>=0.8.0 in /usr/local/lib/python3.7/dist-packages (from Twisted>=18.9.0->scrapy) (22.10.0)\n",
            "Requirement already satisfied: constantly>=15.1 in /usr/local/lib/python3.7/dist-packages (from Twisted>=18.9.0->scrapy) (15.1.0)\n",
            "Requirement already satisfied: typing-extensions>=3.6.5 in /usr/local/lib/python3.7/dist-packages (from Twisted>=18.9.0->scrapy) (4.1.1)\n",
            "Requirement already satisfied: hyperlink>=17.1.1 in /usr/local/lib/python3.7/dist-packages (from Twisted>=18.9.0->scrapy) (21.0.0)\n",
            "Requirement already satisfied: pyparsing>=2.0.2 in /usr/local/lib/python3.7/dist-packages (from packaging->scrapy) (3.0.9)\n",
            "Requirement already satisfied: requests>=2.1.0 in /usr/local/lib/python3.7/dist-packages (from tldextract->scrapy) (2.23.0)\n",
            "Requirement already satisfied: filelock>=3.0.8 in /usr/local/lib/python3.7/dist-packages (from tldextract->scrapy) (3.8.0)\n",
            "Requirement already satisfied: idna in /usr/local/lib/python3.7/dist-packages (from tldextract->scrapy) (2.10)\n",
            "Requirement already satisfied: requests-file>=1.4 in /usr/local/lib/python3.7/dist-packages (from tldextract->scrapy) (1.5.1)\n",
            "Requirement already satisfied: pycparser in /usr/local/lib/python3.7/dist-packages (from cffi>=1.12->cryptography>=3.3->scrapy) (2.21)\n",
            "Requirement already satisfied: certifi>=2017.4.17 in /usr/local/lib/python3.7/dist-packages (from requests>=2.1.0->tldextract->scrapy) (2022.9.24)\n",
            "Requirement already satisfied: urllib3!=1.25.0,!=1.25.1,<1.26,>=1.21.1 in /usr/local/lib/python3.7/dist-packages (from requests>=2.1.0->tldextract->scrapy) (1.24.3)\n",
            "Requirement already satisfied: chardet<4,>=3.0.2 in /usr/local/lib/python3.7/dist-packages (from requests>=2.1.0->tldextract->scrapy) (3.0.4)\n",
            "\u001b[33mWARNING: Running pip as the 'root' user can result in broken permissions and conflicting behaviour with the system package manager. It is recommended to use a virtual environment instead: https://pip.pypa.io/warnings/venv\u001b[0m\u001b[33m\n",
            "\u001b[0mLooking in indexes: https://pypi.org/simple, https://us-python.pkg.dev/colab-wheels/public/simple/\n",
            "Requirement already satisfied: beautifulsoup4 in /usr/local/lib/python3.7/dist-packages (4.6.3)\n",
            "\u001b[33mWARNING: Running pip as the 'root' user can result in broken permissions and conflicting behaviour with the system package manager. It is recommended to use a virtual environment instead: https://pip.pypa.io/warnings/venv\u001b[0m\u001b[33m\n",
            "\u001b[0mLooking in indexes: https://pypi.org/simple, https://us-python.pkg.dev/colab-wheels/public/simple/\n",
            "Requirement already satisfied: seaborn in /usr/local/lib/python3.7/dist-packages (0.11.2)\n",
            "Requirement already satisfied: pandas>=0.23 in /usr/local/lib/python3.7/dist-packages (from seaborn) (1.3.5)\n",
            "Requirement already satisfied: scipy>=1.0 in /usr/local/lib/python3.7/dist-packages (from seaborn) (1.7.3)\n",
            "Requirement already satisfied: matplotlib>=2.2 in /usr/local/lib/python3.7/dist-packages (from seaborn) (3.2.2)\n",
            "Requirement already satisfied: numpy>=1.15 in /usr/local/lib/python3.7/dist-packages (from seaborn) (1.21.6)\n",
            "Requirement already satisfied: pyparsing!=2.0.4,!=2.1.2,!=2.1.6,>=2.0.1 in /usr/local/lib/python3.7/dist-packages (from matplotlib>=2.2->seaborn) (3.0.9)\n",
            "Requirement already satisfied: kiwisolver>=1.0.1 in /usr/local/lib/python3.7/dist-packages (from matplotlib>=2.2->seaborn) (1.4.4)\n",
            "Requirement already satisfied: python-dateutil>=2.1 in /usr/local/lib/python3.7/dist-packages (from matplotlib>=2.2->seaborn) (2.8.2)\n",
            "Requirement already satisfied: cycler>=0.10 in /usr/local/lib/python3.7/dist-packages (from matplotlib>=2.2->seaborn) (0.11.0)\n",
            "Requirement already satisfied: pytz>=2017.3 in /usr/local/lib/python3.7/dist-packages (from pandas>=0.23->seaborn) (2022.6)\n",
            "Requirement already satisfied: typing-extensions in /usr/local/lib/python3.7/dist-packages (from kiwisolver>=1.0.1->matplotlib>=2.2->seaborn) (4.1.1)\n",
            "Requirement already satisfied: six>=1.5 in /usr/local/lib/python3.7/dist-packages (from python-dateutil>=2.1->matplotlib>=2.2->seaborn) (1.15.0)\n",
            "\u001b[33mWARNING: Running pip as the 'root' user can result in broken permissions and conflicting behaviour with the system package manager. It is recommended to use a virtual environment instead: https://pip.pypa.io/warnings/venv\u001b[0m\u001b[33m\n",
            "\u001b[0mLooking in indexes: https://pypi.org/simple, https://us-python.pkg.dev/colab-wheels/public/simple/\n",
            "Requirement already satisfied: geoplotlib in /usr/local/lib/python3.7/dist-packages (0.3.2)\n",
            "\u001b[33mWARNING: Running pip as the 'root' user can result in broken permissions and conflicting behaviour with the system package manager. It is recommended to use a virtual environment instead: https://pip.pypa.io/warnings/venv\u001b[0m\u001b[33m\n",
            "\u001b[0mLooking in indexes: https://pypi.org/simple, https://us-python.pkg.dev/colab-wheels/public/simple/\n",
            "Requirement already satisfied: Pyglet in /usr/local/lib/python3.7/dist-packages (2.0.0)\n",
            "\u001b[33mWARNING: Running pip as the 'root' user can result in broken permissions and conflicting behaviour with the system package manager. It is recommended to use a virtual environment instead: https://pip.pypa.io/warnings/venv\u001b[0m\u001b[33m\n",
            "\u001b[0mLooking in indexes: https://pypi.org/simple, https://us-python.pkg.dev/colab-wheels/public/simple/\n",
            "Requirement already satisfied: plotly in /usr/local/lib/python3.7/dist-packages (5.5.0)\n",
            "Requirement already satisfied: six in /usr/local/lib/python3.7/dist-packages (from plotly) (1.15.0)\n",
            "Requirement already satisfied: tenacity>=6.2.0 in /usr/local/lib/python3.7/dist-packages (from plotly) (8.1.0)\n",
            "\u001b[33mWARNING: Running pip as the 'root' user can result in broken permissions and conflicting behaviour with the system package manager. It is recommended to use a virtual environment instead: https://pip.pypa.io/warnings/venv\u001b[0m\u001b[33m\n",
            "\u001b[0m"
          ]
        }
      ],
      "source": [
        "# Installations and Imports for creating Data Analytics Environment\n",
        "\n",
        "%pip install --upgrade pyforest\n",
        " #Comment | %python -m pyforest install_extensions\n",
        "%pip install --upgrade folium\n",
        "%pip install pandas\n",
        "%pip install matplotlib\n",
        "%pip install bonobo\n",
        "%pip install scrapy # Project Description - https://pypi.org/project/Scrapy/\n",
        "%pip install beautifulsoup4 # Project Description - https://pypi.org/project/beautifulsoup4/\n",
        "%pip install seaborn\n",
        "%pip install geoplotlib\n",
        "%pip install Pyglet\n",
        "%pip install plotly\n"
      ]
    },
    {
      "cell_type": "markdown",
      "metadata": {
        "id": "8cM1u5_Qeo2m"
      },
      "source": [
        "### Libraries Imported Explicitly"
      ]
    },
    {
      "cell_type": "code",
      "execution_count": null,
      "metadata": {
        "id": "Kvpy6RYLeo2n"
      },
      "outputs": [],
      "source": [
        "## Data Mining - explicit mention\n",
        "import scrapy\n",
        "from bs4 import BeautifulSoup"
      ]
    },
    {
      "cell_type": "code",
      "execution_count": null,
      "metadata": {
        "id": "hcDZxEFmeo2n"
      },
      "outputs": [],
      "source": [
        "## Python to Web Queries Made easier\n",
        "import requests\n",
        "import json\n",
        "import urllib3\n",
        "from urllib3 import request"
      ]
    },
    {
      "cell_type": "code",
      "execution_count": null,
      "metadata": {
        "id": "2Nq0D18Peo2p"
      },
      "outputs": [],
      "source": [
        "## to handle certificate verification\n",
        "import certifi"
      ]
    },
    {
      "cell_type": "code",
      "execution_count": null,
      "metadata": {
        "id": "AnBD7W3Aeo2p"
      },
      "outputs": [],
      "source": [
        "## Data Processing and Modeling - explicit mention\n",
        "import numpy as np\n",
        "import pandas as pd\n",
        "import matplotlib.pyplot as plt"
      ]
    },
    {
      "cell_type": "code",
      "execution_count": null,
      "metadata": {
        "id": "LLKAm3WOeo2q"
      },
      "outputs": [],
      "source": [
        "## Data Viz and Plotting\n",
        "import seaborn as sns\n",
        "\n",
        "# OFF SWITCH -> import geoplotlib\n",
        "# OFF SWITCH -> from geoplotlib.utils import read_csv, BoundingBox\n",
        "\n",
        "import plotly.express as px\n",
        "\n",
        "## Dataviz Libraries Appendix\n",
        "# Link: https://towardsdatascience.com/best-libraries-for-geospatial-data-visualisation-in-python-d23834173b35"
      ]
    },
    {
      "cell_type": "code",
      "execution_count": null,
      "metadata": {
        "id": "w4gGXB92eo2r"
      },
      "outputs": [],
      "source": [
        "## Pipeline - ETL Library\n",
        "import bonobo #Footnote: https://www.bonobo-project.org/\n"
      ]
    },
    {
      "cell_type": "code",
      "execution_count": null,
      "metadata": {
        "id": "FD2zWuZmeo2s"
      },
      "outputs": [],
      "source": [
        "# Handling Certificate Validation (see pip install certifi)\n",
        "#http = urllib3.PoolManager(\n",
        "#      cert_reqs==|CERT_REQUIRED|\n",
        "#      ca_certs==certifi.where())"
      ]
    },
    {
      "cell_type": "code",
      "execution_count": null,
      "metadata": {
        "id": "oM0qdtK2eo2s"
      },
      "outputs": [],
      "source": [
        "# to handle certificate verification\n",
        "import certifi"
      ]
    },
    {
      "cell_type": "markdown",
      "metadata": {
        "id": "ZkE4QPuQeo2t"
      },
      "source": [
        "### Import Datasets and Accompanying Details\n",
        "\n"
      ]
    },
    {
      "cell_type": "code",
      "execution_count": null,
      "metadata": {
        "id": "pvGyfeYEeo2u"
      },
      "outputs": [],
      "source": [
        "# Import Data\n",
        "\n",
        "## How To: Compile the data for this analysis \n",
        "## Step 1. Pull data from PDF (\n",
        "## [Maternal deaths and mortality rates: Each state, the District of Columbia, United States, 2018‐2020](https://www.cdc.gov/nchs/maternal-mortality/MMR-2018-2020-State-Data.pdf)\n",
        "\n",
        "\n",
        "## Step 2. Webscrape data from guardian website (https://www.theguardian.com/us-news/ng-interactive/2022/jun/28/tracking-where-abortion-laws-stand-in-every-state))\n"
      ]
    },
    {
      "cell_type": "code",
      "source": [
        "## STEP 1 ---- Ingesting \"Maternal deaths and mortality rates: Each state, the District of Columbia, United States, 2018‐2020\" \n",
        "### Byline: NCHS, National Vital Statistics SystemSOURCE: NCHS, National Vital Statistics System\n",
        "### Shape of the Data: PDF file\n",
        "\n",
        " \n",
        "from google.colab import auth\n",
        "auth.authenticate_user()\n",
        "\n",
        "import gspread\n",
        "from google.auth import default\n",
        "creds, _ = default()\n",
        "\n",
        "gc = gspread.authorize(creds)\n",
        "\n",
        "worksheet = gc.open('VitalStatistics_raw_data').sheet1\n",
        "\n",
        "# get_all_values gives a list of rows.\n",
        "rows = worksheet.get_all_values()\n",
        "print(rows)\n",
        "\n",
        "# Convert to a DataFrame and render.\n",
        "VitalStatistics_clean_df = pd.DataFrame.from_records(rows)\n",
        "\n",
        "# Print Table as a Success Check\n",
        "# VitalStatistics_clean_df.head(52)\n",
        "\n",
        "### FOOTNOTES\n",
        "# Importing from Google Sheets - https://colab.research.google.com/notebooks/snippets/sheets.ipynb#scrollTo=JiJVCmu3dhFa\n",
        "   "
      ],
      "metadata": {
        "id": "P4OSo7rDgR-8",
        "colab": {
          "base_uri": "https://localhost:8080/"
        },
        "outputId": "9159d912-0c45-4f05-9430-f059fccd6871"
      },
      "execution_count": null,
      "outputs": [
        {
          "output_type": "stream",
          "name": "stdout",
          "text": [
            "[['State', 'Abbreviation', 'Deaths [1]', 'Maternal mortality rate', '95% lower confidence limit', '95% upper confidence limit'], ['Alabama', 'AL', '63', '36.2', '27.8', '46.3'], ['Alaska', 'AK', '8', '*', '*', '*'], ['Arizona', 'AZ', '67', '28.3', '21.9', '35.9'], ['Arkansas', 'AR', '44', '40.4', '29.4', '54.3'], ['California', 'CA', '135', '10.2', '8.5', '11.9'], ['Colorado', 'CO', '27', '14.4', '9.5', '21.0'], ['Connecticut', 'CT', '18', '*', '*', '*'], ['Delaware', 'DE', '5', '*', '*', '*'], ['District of Columbia', '', '7', '*', '*', '*'], ['Florida', 'FL', '141', '21.7', '18.1', '25.2'], ['Georgia', 'GA', '108', '28.8', '23.4', '34.2'], ['Hawaii', 'HI', '7', '*', '*', '*'], ['Idaho', 'ID', '11', '*', '*', '*'], ['Illinois', 'IL', '54', '12.9', '9.7', '16.8'], ['Indiana', 'IN', '68', '28.2', '21.9', '35.8'], ['Iowa', 'IA', '14', '*', '*', '*'], ['Kansas', 'KS', '23', '21.7', '13.8', '32.5'], ['Kentucky[D]', 'KY', '63', '39.7', '30.5', '50.8'], ['Louisiana', 'LA', '56', '31.8', '24.1', '41.3'], ['Maine', 'ME', '3', '*', '*', '*'], ['Maryland', 'MD', '39', '18.6', '13.2', '25.4'], ['Massachusetts[D]', 'MA', '30', '14.7', '9.9', '20.9'], ['Michigan', 'MI', '63', '19.6', '15.0', '25.0'], ['Minnesota', 'MN', '19', '*', '*', '*'], ['Mississippi', 'MS', '33', '30.2', '20.8', '42.5'], ['Missouri', 'MO', '54', '25.2', '18.9', '32.8'], ['Montana', 'MT', '8', '*', '*', '*'], ['Nebraska', 'NE', '21', '28.2', '17.4', '43.1'], ['Nevada', 'NV', '20', '19.2', '11.7', '29.6'], ['New Hampshire', 'NH', '2', '*', '*', '*'], ['New Jersey', 'NJ', '72', '24.1', '18.9', '30.3'], ['New Mexico', 'NM', '10', '*', '*', '*'], ['New York', 'NY', '133', '20.2', '16.8', '23.7'], ['North Carolina', 'NC', '73', '20.6', '16.1', '25.9'], ['North Dakota', 'ND', '7', '*', '*', '*'], ['Ohio', 'OH', '85', '21.3', '17.0', '26.4'], ['Oklahoma', 'OK', '36', '24.6', '17.2', '34.0'], ['Oregon', 'OR', '18', '*', '*', '*'], ['Pennsylvania[D]', 'PA', '60', '15.0', '11.4', '19.3'], ['Rhode Island', 'RI', '5', '*', '*', '*'], ['South Carolina', 'SC', '49', '28.9', '21.4', '38.2'], ['South Dakota', 'SD', '7', '*', '*', '*'], ['Tennessee', 'TN', '83', '34.6', '27.6', '42.9'], ['Texas', 'TX', '257', '22.9', '20.1', '25.7'], ['Utah', 'UT', '17', '*', '*', '*'], ['Vermont', 'VT', '1', '*', '*', '*'], ['Virginia[D]', 'VA', '65', '22.3', '17.2', '28.4'], ['Washington', 'WA', '52', '20.5', '15.3', '26.8'], ['West Virginia', 'WV', '12', '*', '*', '*'], ['Wisconsin', 'WI', '17', '*', '*', '*'], ['Wyoming', 'WY', '3', '*', '*', '*'], ['', '', '', '', '', ''], ['United States - Total', '', '2,273', '20.4', '19.5', '21.2'], ['', '', '', '', '', ''], ['Footnote - Rates are per 100,000 live births. Data are tabulated by place of residence', '', '', '', '', ''], ['* Data suppressed due to reliability and confidentiality restrictions.', '', '', '', '', ''], ['[1] Maternal deaths include deaths of women while pregnant or within 42 days of termination of pregnancy, irrespective of the duration and the site of the pregnancy, from any cause related to or aggravated by the pregnancy or its management, but not from accidental or incidental causes.', '', '', '', '', ''], ['\\nNOTES: Caution should be taken in interpreting these data and comparing states for the following reasons.', '', '', '', '', ''], ['‐ For many states, the data are based on small numbers and are, therefore, statistically unreliable. Statistical variability in the maternal mortality rate is determined largely by the number of maternal deaths (i.e., as the number of deaths decreases, the variance, or measure of uncertainty, increases). Rates based on fewer than 20 deaths are suppressed because of reliability and confidentiality.', '', '', '', '', ''], ['‐ It is likely that some of the variation in state rates is due to the marked differences in the quality of state maternal mortality data. Variation in the quality of reporting maternal deaths may be due to differences in electronic registration systems and differences in policies and programs designed to verify the pregnancy status of female decedents of reproductive age. These differences may result in underestimates of maternal deaths in some cases, and overestimates in others.', '', '', '', '', ''], ['', '', '', '', '', ''], ['Maternal deaths and mortality rates: Each state, the District of Columbia, United States, 2018‐2020 [Rates are per 100,000 live births', '', '', '', '', ''], ['Source: NCHS, National Vital Statistics System', '', '', '', '', ''], ['Link: https://www.cdc.gov/nchs/maternal-mortality/MMR-2018-2020-State-Data.pdf', '', '', '', '', ''], ['', '', '', '', '', ''], ['Data Decisions', '', '', '', '', ''], ['Number', 'Summary', 'Why', '', '', '']]\n"
          ]
        }
      ]
    },
    {
      "cell_type": "code",
      "source": [
        "# Data Cleaning - Table 1\n",
        "## Standardize table versions so pipeline can only read but not write from datasource\n",
        "VitalStatistics_df = VitalStatistics_clean_df.head(52)\n",
        "\n",
        "# First row to header\n",
        "VitalStatistics_df.columns = VitalStatistics_df.iloc[0]\n",
        "VitalStatistics_df = VitalStatistics_df[2:]\n",
        "\n",
        "# Rubber Stamping - Ready to Use Data: Table 1 Maternal Mortality Data\n",
        "VitalStatistics_df.head()"
      ],
      "metadata": {
        "id": "-8gV9BeN0TTj",
        "colab": {
          "base_uri": "https://localhost:8080/",
          "height": 201
        },
        "outputId": "4344300c-a8fa-4541-9125-a2f42c261776"
      },
      "execution_count": null,
      "outputs": [
        {
          "output_type": "execute_result",
          "data": {
            "text/plain": [
              "0       State Abbreviation Deaths [1] Maternal mortality rate  \\\n",
              "2      Alaska           AK          8                       *   \n",
              "3     Arizona           AZ         67                    28.3   \n",
              "4    Arkansas           AR         44                    40.4   \n",
              "5  California           CA        135                    10.2   \n",
              "6    Colorado           CO         27                    14.4   \n",
              "\n",
              "0 95% lower confidence limit 95% upper confidence limit  \n",
              "2                          *                          *  \n",
              "3                       21.9                       35.9  \n",
              "4                       29.4                       54.3  \n",
              "5                        8.5                       11.9  \n",
              "6                        9.5                       21.0  "
            ],
            "text/html": [
              "\n",
              "  <div id=\"df-f90147d8-b490-4d46-bd99-f9dde9c3a580\">\n",
              "    <div class=\"colab-df-container\">\n",
              "      <div>\n",
              "<style scoped>\n",
              "    .dataframe tbody tr th:only-of-type {\n",
              "        vertical-align: middle;\n",
              "    }\n",
              "\n",
              "    .dataframe tbody tr th {\n",
              "        vertical-align: top;\n",
              "    }\n",
              "\n",
              "    .dataframe thead th {\n",
              "        text-align: right;\n",
              "    }\n",
              "</style>\n",
              "<table border=\"1\" class=\"dataframe\">\n",
              "  <thead>\n",
              "    <tr style=\"text-align: right;\">\n",
              "      <th></th>\n",
              "      <th>State</th>\n",
              "      <th>Abbreviation</th>\n",
              "      <th>Deaths [1]</th>\n",
              "      <th>Maternal mortality rate</th>\n",
              "      <th>95% lower confidence limit</th>\n",
              "      <th>95% upper confidence limit</th>\n",
              "    </tr>\n",
              "  </thead>\n",
              "  <tbody>\n",
              "    <tr>\n",
              "      <th>2</th>\n",
              "      <td>Alaska</td>\n",
              "      <td>AK</td>\n",
              "      <td>8</td>\n",
              "      <td>*</td>\n",
              "      <td>*</td>\n",
              "      <td>*</td>\n",
              "    </tr>\n",
              "    <tr>\n",
              "      <th>3</th>\n",
              "      <td>Arizona</td>\n",
              "      <td>AZ</td>\n",
              "      <td>67</td>\n",
              "      <td>28.3</td>\n",
              "      <td>21.9</td>\n",
              "      <td>35.9</td>\n",
              "    </tr>\n",
              "    <tr>\n",
              "      <th>4</th>\n",
              "      <td>Arkansas</td>\n",
              "      <td>AR</td>\n",
              "      <td>44</td>\n",
              "      <td>40.4</td>\n",
              "      <td>29.4</td>\n",
              "      <td>54.3</td>\n",
              "    </tr>\n",
              "    <tr>\n",
              "      <th>5</th>\n",
              "      <td>California</td>\n",
              "      <td>CA</td>\n",
              "      <td>135</td>\n",
              "      <td>10.2</td>\n",
              "      <td>8.5</td>\n",
              "      <td>11.9</td>\n",
              "    </tr>\n",
              "    <tr>\n",
              "      <th>6</th>\n",
              "      <td>Colorado</td>\n",
              "      <td>CO</td>\n",
              "      <td>27</td>\n",
              "      <td>14.4</td>\n",
              "      <td>9.5</td>\n",
              "      <td>21.0</td>\n",
              "    </tr>\n",
              "  </tbody>\n",
              "</table>\n",
              "</div>\n",
              "      <button class=\"colab-df-convert\" onclick=\"convertToInteractive('df-f90147d8-b490-4d46-bd99-f9dde9c3a580')\"\n",
              "              title=\"Convert this dataframe to an interactive table.\"\n",
              "              style=\"display:none;\">\n",
              "        \n",
              "  <svg xmlns=\"http://www.w3.org/2000/svg\" height=\"24px\"viewBox=\"0 0 24 24\"\n",
              "       width=\"24px\">\n",
              "    <path d=\"M0 0h24v24H0V0z\" fill=\"none\"/>\n",
              "    <path d=\"M18.56 5.44l.94 2.06.94-2.06 2.06-.94-2.06-.94-.94-2.06-.94 2.06-2.06.94zm-11 1L8.5 8.5l.94-2.06 2.06-.94-2.06-.94L8.5 2.5l-.94 2.06-2.06.94zm10 10l.94 2.06.94-2.06 2.06-.94-2.06-.94-.94-2.06-.94 2.06-2.06.94z\"/><path d=\"M17.41 7.96l-1.37-1.37c-.4-.4-.92-.59-1.43-.59-.52 0-1.04.2-1.43.59L10.3 9.45l-7.72 7.72c-.78.78-.78 2.05 0 2.83L4 21.41c.39.39.9.59 1.41.59.51 0 1.02-.2 1.41-.59l7.78-7.78 2.81-2.81c.8-.78.8-2.07 0-2.86zM5.41 20L4 18.59l7.72-7.72 1.47 1.35L5.41 20z\"/>\n",
              "  </svg>\n",
              "      </button>\n",
              "      \n",
              "  <style>\n",
              "    .colab-df-container {\n",
              "      display:flex;\n",
              "      flex-wrap:wrap;\n",
              "      gap: 12px;\n",
              "    }\n",
              "\n",
              "    .colab-df-convert {\n",
              "      background-color: #E8F0FE;\n",
              "      border: none;\n",
              "      border-radius: 50%;\n",
              "      cursor: pointer;\n",
              "      display: none;\n",
              "      fill: #1967D2;\n",
              "      height: 32px;\n",
              "      padding: 0 0 0 0;\n",
              "      width: 32px;\n",
              "    }\n",
              "\n",
              "    .colab-df-convert:hover {\n",
              "      background-color: #E2EBFA;\n",
              "      box-shadow: 0px 1px 2px rgba(60, 64, 67, 0.3), 0px 1px 3px 1px rgba(60, 64, 67, 0.15);\n",
              "      fill: #174EA6;\n",
              "    }\n",
              "\n",
              "    [theme=dark] .colab-df-convert {\n",
              "      background-color: #3B4455;\n",
              "      fill: #D2E3FC;\n",
              "    }\n",
              "\n",
              "    [theme=dark] .colab-df-convert:hover {\n",
              "      background-color: #434B5C;\n",
              "      box-shadow: 0px 1px 3px 1px rgba(0, 0, 0, 0.15);\n",
              "      filter: drop-shadow(0px 1px 2px rgba(0, 0, 0, 0.3));\n",
              "      fill: #FFFFFF;\n",
              "    }\n",
              "  </style>\n",
              "\n",
              "      <script>\n",
              "        const buttonEl =\n",
              "          document.querySelector('#df-f90147d8-b490-4d46-bd99-f9dde9c3a580 button.colab-df-convert');\n",
              "        buttonEl.style.display =\n",
              "          google.colab.kernel.accessAllowed ? 'block' : 'none';\n",
              "\n",
              "        async function convertToInteractive(key) {\n",
              "          const element = document.querySelector('#df-f90147d8-b490-4d46-bd99-f9dde9c3a580');\n",
              "          const dataTable =\n",
              "            await google.colab.kernel.invokeFunction('convertToInteractive',\n",
              "                                                     [key], {});\n",
              "          if (!dataTable) return;\n",
              "\n",
              "          const docLinkHtml = 'Like what you see? Visit the ' +\n",
              "            '<a target=\"_blank\" href=https://colab.research.google.com/notebooks/data_table.ipynb>data table notebook</a>'\n",
              "            + ' to learn more about interactive tables.';\n",
              "          element.innerHTML = '';\n",
              "          dataTable['output_type'] = 'display_data';\n",
              "          await google.colab.output.renderOutput(dataTable, element);\n",
              "          const docLink = document.createElement('div');\n",
              "          docLink.innerHTML = docLinkHtml;\n",
              "          element.appendChild(docLink);\n",
              "        }\n",
              "      </script>\n",
              "    </div>\n",
              "  </div>\n",
              "  "
            ]
          },
          "metadata": {},
          "execution_count": 60
        }
      ]
    },
    {
      "cell_type": "code",
      "source": [
        "# Summary Statistics\n",
        "VitalStatistics_df.describe()"
      ],
      "metadata": {
        "colab": {
          "base_uri": "https://localhost:8080/",
          "height": 170
        },
        "id": "2bxndlhExGtT",
        "outputId": "6f9a94ac-a16f-45c1-cc2f-a480be4df966"
      },
      "execution_count": null,
      "outputs": [
        {
          "output_type": "execute_result",
          "data": {
            "text/plain": [
              "0        State Abbreviation Deaths [1] Maternal mortality rate  \\\n",
              "count       50           50         50                      50   \n",
              "unique      50           50         40                      28   \n",
              "top     Alaska           AK          7                       *   \n",
              "freq         1            1          4                      21   \n",
              "\n",
              "0      95% lower confidence limit 95% upper confidence limit  \n",
              "count                          50                         50  \n",
              "unique                         27                         30  \n",
              "top                             *                          *  \n",
              "freq                           21                         21  "
            ],
            "text/html": [
              "\n",
              "  <div id=\"df-dd20f8e8-86ea-489e-b384-b99fe92efbb9\">\n",
              "    <div class=\"colab-df-container\">\n",
              "      <div>\n",
              "<style scoped>\n",
              "    .dataframe tbody tr th:only-of-type {\n",
              "        vertical-align: middle;\n",
              "    }\n",
              "\n",
              "    .dataframe tbody tr th {\n",
              "        vertical-align: top;\n",
              "    }\n",
              "\n",
              "    .dataframe thead th {\n",
              "        text-align: right;\n",
              "    }\n",
              "</style>\n",
              "<table border=\"1\" class=\"dataframe\">\n",
              "  <thead>\n",
              "    <tr style=\"text-align: right;\">\n",
              "      <th></th>\n",
              "      <th>State</th>\n",
              "      <th>Abbreviation</th>\n",
              "      <th>Deaths [1]</th>\n",
              "      <th>Maternal mortality rate</th>\n",
              "      <th>95% lower confidence limit</th>\n",
              "      <th>95% upper confidence limit</th>\n",
              "    </tr>\n",
              "  </thead>\n",
              "  <tbody>\n",
              "    <tr>\n",
              "      <th>count</th>\n",
              "      <td>50</td>\n",
              "      <td>50</td>\n",
              "      <td>50</td>\n",
              "      <td>50</td>\n",
              "      <td>50</td>\n",
              "      <td>50</td>\n",
              "    </tr>\n",
              "    <tr>\n",
              "      <th>unique</th>\n",
              "      <td>50</td>\n",
              "      <td>50</td>\n",
              "      <td>40</td>\n",
              "      <td>28</td>\n",
              "      <td>27</td>\n",
              "      <td>30</td>\n",
              "    </tr>\n",
              "    <tr>\n",
              "      <th>top</th>\n",
              "      <td>Alaska</td>\n",
              "      <td>AK</td>\n",
              "      <td>7</td>\n",
              "      <td>*</td>\n",
              "      <td>*</td>\n",
              "      <td>*</td>\n",
              "    </tr>\n",
              "    <tr>\n",
              "      <th>freq</th>\n",
              "      <td>1</td>\n",
              "      <td>1</td>\n",
              "      <td>4</td>\n",
              "      <td>21</td>\n",
              "      <td>21</td>\n",
              "      <td>21</td>\n",
              "    </tr>\n",
              "  </tbody>\n",
              "</table>\n",
              "</div>\n",
              "      <button class=\"colab-df-convert\" onclick=\"convertToInteractive('df-dd20f8e8-86ea-489e-b384-b99fe92efbb9')\"\n",
              "              title=\"Convert this dataframe to an interactive table.\"\n",
              "              style=\"display:none;\">\n",
              "        \n",
              "  <svg xmlns=\"http://www.w3.org/2000/svg\" height=\"24px\"viewBox=\"0 0 24 24\"\n",
              "       width=\"24px\">\n",
              "    <path d=\"M0 0h24v24H0V0z\" fill=\"none\"/>\n",
              "    <path d=\"M18.56 5.44l.94 2.06.94-2.06 2.06-.94-2.06-.94-.94-2.06-.94 2.06-2.06.94zm-11 1L8.5 8.5l.94-2.06 2.06-.94-2.06-.94L8.5 2.5l-.94 2.06-2.06.94zm10 10l.94 2.06.94-2.06 2.06-.94-2.06-.94-.94-2.06-.94 2.06-2.06.94z\"/><path d=\"M17.41 7.96l-1.37-1.37c-.4-.4-.92-.59-1.43-.59-.52 0-1.04.2-1.43.59L10.3 9.45l-7.72 7.72c-.78.78-.78 2.05 0 2.83L4 21.41c.39.39.9.59 1.41.59.51 0 1.02-.2 1.41-.59l7.78-7.78 2.81-2.81c.8-.78.8-2.07 0-2.86zM5.41 20L4 18.59l7.72-7.72 1.47 1.35L5.41 20z\"/>\n",
              "  </svg>\n",
              "      </button>\n",
              "      \n",
              "  <style>\n",
              "    .colab-df-container {\n",
              "      display:flex;\n",
              "      flex-wrap:wrap;\n",
              "      gap: 12px;\n",
              "    }\n",
              "\n",
              "    .colab-df-convert {\n",
              "      background-color: #E8F0FE;\n",
              "      border: none;\n",
              "      border-radius: 50%;\n",
              "      cursor: pointer;\n",
              "      display: none;\n",
              "      fill: #1967D2;\n",
              "      height: 32px;\n",
              "      padding: 0 0 0 0;\n",
              "      width: 32px;\n",
              "    }\n",
              "\n",
              "    .colab-df-convert:hover {\n",
              "      background-color: #E2EBFA;\n",
              "      box-shadow: 0px 1px 2px rgba(60, 64, 67, 0.3), 0px 1px 3px 1px rgba(60, 64, 67, 0.15);\n",
              "      fill: #174EA6;\n",
              "    }\n",
              "\n",
              "    [theme=dark] .colab-df-convert {\n",
              "      background-color: #3B4455;\n",
              "      fill: #D2E3FC;\n",
              "    }\n",
              "\n",
              "    [theme=dark] .colab-df-convert:hover {\n",
              "      background-color: #434B5C;\n",
              "      box-shadow: 0px 1px 3px 1px rgba(0, 0, 0, 0.15);\n",
              "      filter: drop-shadow(0px 1px 2px rgba(0, 0, 0, 0.3));\n",
              "      fill: #FFFFFF;\n",
              "    }\n",
              "  </style>\n",
              "\n",
              "      <script>\n",
              "        const buttonEl =\n",
              "          document.querySelector('#df-dd20f8e8-86ea-489e-b384-b99fe92efbb9 button.colab-df-convert');\n",
              "        buttonEl.style.display =\n",
              "          google.colab.kernel.accessAllowed ? 'block' : 'none';\n",
              "\n",
              "        async function convertToInteractive(key) {\n",
              "          const element = document.querySelector('#df-dd20f8e8-86ea-489e-b384-b99fe92efbb9');\n",
              "          const dataTable =\n",
              "            await google.colab.kernel.invokeFunction('convertToInteractive',\n",
              "                                                     [key], {});\n",
              "          if (!dataTable) return;\n",
              "\n",
              "          const docLinkHtml = 'Like what you see? Visit the ' +\n",
              "            '<a target=\"_blank\" href=https://colab.research.google.com/notebooks/data_table.ipynb>data table notebook</a>'\n",
              "            + ' to learn more about interactive tables.';\n",
              "          element.innerHTML = '';\n",
              "          dataTable['output_type'] = 'display_data';\n",
              "          await google.colab.output.renderOutput(dataTable, element);\n",
              "          const docLink = document.createElement('div');\n",
              "          docLink.innerHTML = docLinkHtml;\n",
              "          element.appendChild(docLink);\n",
              "        }\n",
              "      </script>\n",
              "    </div>\n",
              "  </div>\n",
              "  "
            ]
          },
          "metadata": {},
          "execution_count": 61
        }
      ]
    },
    {
      "cell_type": "code",
      "source": [
        "# PreWork - Data Cleaning\n",
        "\n",
        "## 1. View current types\n",
        "print(VitalStatistics_df.dtypes)"
      ],
      "metadata": {
        "colab": {
          "base_uri": "https://localhost:8080/"
        },
        "id": "Kt6_nL7IVhRx",
        "outputId": "ebdebf0a-203e-472a-ee8b-22b36edd9852"
      },
      "execution_count": null,
      "outputs": [
        {
          "output_type": "stream",
          "name": "stdout",
          "text": [
            "0\n",
            "State                         object\n",
            "Abbreviation                  object\n",
            "Deaths [1]                    object\n",
            "Maternal mortality rate       object\n",
            "95% lower confidence limit    object\n",
            "95% upper confidence limit    object\n",
            "dtype: object\n"
          ]
        }
      ]
    },
    {
      "cell_type": "code",
      "source": [
        "# List of Columns\n",
        "VitalStatistics_df.columns.values.tolist()"
      ],
      "metadata": {
        "colab": {
          "base_uri": "https://localhost:8080/"
        },
        "id": "c1zYrHuByu-2",
        "outputId": "ad40aff4-28bc-4a67-fa98-fea099b9afce"
      },
      "execution_count": null,
      "outputs": [
        {
          "output_type": "execute_result",
          "data": {
            "text/plain": [
              "['State',\n",
              " 'Abbreviation',\n",
              " 'Deaths [1]',\n",
              " 'Maternal mortality rate',\n",
              " '95% lower confidence limit',\n",
              " '95% upper confidence limit']"
            ]
          },
          "metadata": {},
          "execution_count": 63
        }
      ]
    },
    {
      "cell_type": "markdown",
      "source": [
        "## Analysis Section\n",
        "\n",
        "1. What is the state of abortion access by state?\n",
        "2. Which states have the highest rates of maternal mortality? (10 States)\n",
        "3. Which states have the lowest number of abortion providers? (10 States)\n",
        "4. Distribution of pregnancy related deaths for the US?"
      ],
      "metadata": {
        "id": "dtvWnMWe5e6H"
      }
    },
    {
      "cell_type": "code",
      "source": [
        "# Get the Distribution of death and mortality rate\n",
        "\n",
        "## Import necessary library\n",
        "import matplotlib.pyplot as plt\n",
        "\n",
        "# Historgram - Deaths\n",
        "VitalStatistics_df['Deaths [1]'].plot(kind='hist')"
      ],
      "metadata": {
        "id": "Lt4q_gCqcqRE",
        "colab": {
          "base_uri": "https://localhost:8080/",
          "height": 283
        },
        "outputId": "717528db-8e91-4d1d-de5d-15c1793cb351"
      },
      "execution_count": null,
      "outputs": [
        {
          "output_type": "execute_result",
          "data": {
            "text/plain": [
              "<matplotlib.axes._subplots.AxesSubplot at 0x7f0cc462e250>"
            ]
          },
          "metadata": {},
          "execution_count": 65
        },
        {
          "output_type": "display_data",
          "data": {
            "text/plain": [
              "<Figure size 432x288 with 1 Axes>"
            ],
            "image/png": "[encoded data removed]"
          },
          "metadata": {
            "needs_background": "light"
          }
        }
      ]
    },
    {
      "cell_type": "code",
      "source": [
        "# Testing the Total - Sum Deaths and Average Maternal Mortality\n"
      ],
      "metadata": {
        "id": "47YOZt5O3NjW"
      },
      "execution_count": null,
      "outputs": []
    },
    {
      "cell_type": "markdown",
      "metadata": {
        "id": "jhhxQi_yeo2w"
      },
      "source": [
        "# Appendix"
      ]
    },
    {
      "cell_type": "markdown",
      "metadata": {
        "id": "GnecyGUIeo2x"
      },
      "source": [
        "## Resources Referenced Throughout Research\n",
        "\n",
        "***Institutions***\n",
        "* [Centers for Disease Control and Prevention's National Center for Health Statistics (NCHS)](https://www.cdc.gov/nchs/maternal-mortality/data.htm)\n",
        "\n",
        "***Data Sources***\n",
        "* [National Center for Health Statistics. Compressed Mortality File, 1999-2016 (machine readable data file and documentation, CD‑ROM Series 20, No. 2V) as compiled from data provided by the 57 vital statistics jurisdictions through the Vital Statistics Cooperative Program.  Hyattsville, Maryland. 2017.](https://www.cdc.gov/nchs/data_access/cmf.htm)\n",
        "\n",
        "* [Maternal deaths and mortality rates: Each state, the District of Columbia, United States, 2018‐2020](https://www.cdc.gov/nchs/maternal-mortality/MMR-2018-2020-State-Data.pdf)\n",
        "\n",
        "* [Centers for Disease Control and Prevention's Reproductive Health Data and Statistics](https://www.cdc.gov/reproductivehealth/data_stats/index.htm)\n",
        "\n",
        "\n",
        "***Articles/Academic Papers***\n",
        "* [University of Colorado Boulder - Study: Banning abortion would boost maternal mortality by double digits](https://www.colorado.edu/today/2021/09/08/study-banning-abortion-would-boost-maternal-mortality-double-digits)\n",
        "\n",
        "* [National Institute of Health's Office of Research on Women's Health - What Are Maternal Morbidity and Mortality?](https://orwh.od.nih.gov/mmm-portal/what-mmm)\n",
        "\n",
        "* [Nelson, D.B., Moniz, M.H. & Davis, M.M. Population-level factors associated with maternal mortality in the United States, 1997–2012. BMC Public Health 18, 1007 (2018)](https://bmcpublichealth.biomedcentral.com/articles/10.1186/s12889-018-5935-2)\n",
        "\n",
        "* [The Pew Charitable Trusts | Critics Fear Abortion Bans Could Jeopardize Health of Pregnant Women by Michael Ollove](https://www.pewtrusts.org/en/research-and-analysis/blogs/stateline/2022/06/22/critics-fear-abortion-bans-could-jeopardize-health-of-pregnant-women)\n",
        "\n",
        "* [National Institutes of Health | Eunice Kennedy Shriver National Institute of Child Health and Human Development | What factors increase the risk of maternal morbidity and mortality?](https://www.nichd.nih.gov/health/topics/maternal-morbidity-mortality/conditioninfo/factors#)\n",
        "\n",
        "* [The Guardian | Tracking Where Abortion Laws Stand in Every US State](https://www.theguardian.com/us-news/ng-interactive/2022/jun/28/tracking-where-abortion-laws-stand-in-every-state)"
      ]
    }
  ],
  "metadata": {
    "kernelspec": {
      "display_name": "Python 3.9.0 64-bit",
      "language": "python",
      "name": "python3"
    },
    "language_info": {
      "codemirror_mode": {
        "name": "ipython",
        "version": 3
      },
      "file_extension": ".py",
      "mimetype": "text/x-python",
      "name": "python",
      "nbconvert_exporter": "python",
      "pygments_lexer": "ipython3",
      "version": "3.9.0"
    },
    "orig_nbformat": 4,
    "vscode": {
      "interpreter": {
        "hash": "aee8b7b246df8f9039afb4144a1f6fd8d2ca17a180786b69acc140d282b71a49"
      }
    },
    "colab": {
      "provenance": [],
      "collapsed_sections": [],
      "include_colab_link": true
    }
  },
  "nbformat": 4,
  "nbformat_minor": 0
}